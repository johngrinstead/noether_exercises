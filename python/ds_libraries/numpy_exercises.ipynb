{
 "cells": [
  {
   "cell_type": "code",
   "execution_count": 1,
   "id": "bc520c64-7309-4985-a3a9-13cf2f22e102",
   "metadata": {},
   "outputs": [],
   "source": [
    "import numpy as np"
   ]
  },
  {
   "cell_type": "code",
   "execution_count": 2,
   "id": "4252c95a-61ec-44af-b4f3-84c83b3f8dfb",
   "metadata": {},
   "outputs": [
    {
     "data": {
      "text/plain": [
       "array([ 4, 10, 12, 23, -2, -1,  0,  0,  0, -6,  3, -7])"
      ]
     },
     "execution_count": 2,
     "metadata": {},
     "output_type": "execute_result"
    }
   ],
   "source": [
    "a = np.array([4, 10, 12, 23, -2, -1, 0, 0, 0, -6, 3, -7])\n",
    "\n",
    "a"
   ]
  },
  {
   "cell_type": "markdown",
   "id": "2284b908-9798-4421-87d8-d867785ea23c",
   "metadata": {},
   "source": [
    "# 1) How many negative numbers are there?"
   ]
  },
  {
   "cell_type": "code",
   "execution_count": 3,
   "id": "bcca98f3-f77a-4160-b558-87c15a51f98a",
   "metadata": {},
   "outputs": [
    {
     "data": {
      "text/plain": [
       "array([-2, -1, -6, -7])"
      ]
     },
     "execution_count": 3,
     "metadata": {},
     "output_type": "execute_result"
    }
   ],
   "source": [
    "a[a < 0]"
   ]
  },
  {
   "cell_type": "code",
   "execution_count": 4,
   "id": "0feab907-3aa8-47d1-8992-7d6c7d0967eb",
   "metadata": {},
   "outputs": [
    {
     "data": {
      "text/plain": [
       "4"
      ]
     },
     "execution_count": 4,
     "metadata": {},
     "output_type": "execute_result"
    }
   ],
   "source": [
    "len(a[a < 0])"
   ]
  },
  {
   "cell_type": "markdown",
   "id": "fa8e5ef3-04e3-4990-8eac-9accdf760ab4",
   "metadata": {},
   "source": [
    "## 2) How many positive numbers are there?"
   ]
  },
  {
   "cell_type": "code",
   "execution_count": 5,
   "id": "ac006477-c2dd-4bc6-b833-0f9b0dad3ce8",
   "metadata": {},
   "outputs": [
    {
     "data": {
      "text/plain": [
       "array([ 4, 10, 12, 23,  3])"
      ]
     },
     "execution_count": 5,
     "metadata": {},
     "output_type": "execute_result"
    }
   ],
   "source": [
    "a[a > 0]"
   ]
  },
  {
   "cell_type": "code",
   "execution_count": 6,
   "id": "26884684-d528-419f-8abc-28c85499739d",
   "metadata": {},
   "outputs": [
    {
     "data": {
      "text/plain": [
       "5"
      ]
     },
     "execution_count": 6,
     "metadata": {},
     "output_type": "execute_result"
    }
   ],
   "source": [
    "len(a[a > 0])"
   ]
  },
  {
   "cell_type": "markdown",
   "id": "10407014-1b24-45bc-8f43-78e8efeef9a7",
   "metadata": {},
   "source": [
    "## 3) How many even positive numbers are there?"
   ]
  },
  {
   "cell_type": "code",
   "execution_count": 7,
   "id": "c10f1a58-d23c-4a20-b32c-40aa7210fa2e",
   "metadata": {},
   "outputs": [
    {
     "data": {
      "text/plain": [
       "array([ 4, 10, 12])"
      ]
     },
     "execution_count": 7,
     "metadata": {},
     "output_type": "execute_result"
    }
   ],
   "source": [
    "a[(a > 0) & (a % 2 == 0)]"
   ]
  },
  {
   "cell_type": "code",
   "execution_count": 8,
   "id": "686dc665-b38d-4a18-a344-32677c8b21c9",
   "metadata": {},
   "outputs": [
    {
     "data": {
      "text/plain": [
       "3"
      ]
     },
     "execution_count": 8,
     "metadata": {},
     "output_type": "execute_result"
    }
   ],
   "source": [
    "len(a[(a > 0) & (a % 2 == 0)])"
   ]
  },
  {
   "cell_type": "markdown",
   "id": "86a92542-e64d-46fc-90d5-df6e649b66cb",
   "metadata": {},
   "source": [
    "## 4) If you were to add 3 to each data point, how many positive numbers would there be?"
   ]
  },
  {
   "cell_type": "code",
   "execution_count": 9,
   "id": "66147601-d1d0-4d6b-801b-c3a0735034f6",
   "metadata": {},
   "outputs": [
    {
     "data": {
      "text/plain": [
       "array([ 7, 13, 15, 26,  1,  2,  3,  3,  3, -3,  6, -4])"
      ]
     },
     "execution_count": 9,
     "metadata": {},
     "output_type": "execute_result"
    }
   ],
   "source": [
    "b = a + 3\n",
    "\n",
    "b"
   ]
  },
  {
   "cell_type": "code",
   "execution_count": 10,
   "id": "64ec9bc4-ca97-4a80-a335-e53fdd870c1b",
   "metadata": {},
   "outputs": [
    {
     "data": {
      "text/plain": [
       "array([ 7, 13, 15, 26,  1,  2,  3,  3,  3,  6])"
      ]
     },
     "execution_count": 10,
     "metadata": {},
     "output_type": "execute_result"
    }
   ],
   "source": [
    "b[b > 0]"
   ]
  },
  {
   "cell_type": "code",
   "execution_count": 11,
   "id": "3b92ae78-0343-45c4-a4b4-97aa5f671503",
   "metadata": {},
   "outputs": [
    {
     "data": {
      "text/plain": [
       "10"
      ]
     },
     "execution_count": 11,
     "metadata": {},
     "output_type": "execute_result"
    }
   ],
   "source": [
    "len(b[b > 0])"
   ]
  },
  {
   "cell_type": "markdown",
   "id": "87fa1a16-9c69-4db1-9641-a487ab767946",
   "metadata": {},
   "source": [
    "## 5) If you squared each number, what would the new mean and standard deviation be?"
   ]
  },
  {
   "cell_type": "code",
   "execution_count": 12,
   "id": "72e553d1-e4dc-4392-8f35-42721c7c1ec5",
   "metadata": {},
   "outputs": [
    {
     "data": {
      "text/plain": [
       "array([ 16, 100, 144, 529,   4,   1,   0,   0,   0,  36,   9,  49])"
      ]
     },
     "execution_count": 12,
     "metadata": {},
     "output_type": "execute_result"
    }
   ],
   "source": [
    "c = a ** 2\n",
    "\n",
    "c"
   ]
  },
  {
   "cell_type": "code",
   "execution_count": 13,
   "id": "7be3ba32-f3f3-4fe4-baf9-4189c9ca4e8c",
   "metadata": {},
   "outputs": [
    {
     "data": {
      "text/plain": [
       "3.0"
      ]
     },
     "execution_count": 13,
     "metadata": {},
     "output_type": "execute_result"
    }
   ],
   "source": [
    "a.mean()"
   ]
  },
  {
   "cell_type": "code",
   "execution_count": 14,
   "id": "ddd8c9f6-8c01-4d48-9580-8490dc8dbc0a",
   "metadata": {},
   "outputs": [
    {
     "data": {
      "text/plain": [
       "74.0"
      ]
     },
     "execution_count": 14,
     "metadata": {},
     "output_type": "execute_result"
    }
   ],
   "source": [
    "c.mean()"
   ]
  },
  {
   "cell_type": "code",
   "execution_count": 15,
   "id": "bab10bd9-4aef-49cc-8713-0781efc7517d",
   "metadata": {},
   "outputs": [
    {
     "data": {
      "text/plain": [
       "8.06225774829855"
      ]
     },
     "execution_count": 15,
     "metadata": {},
     "output_type": "execute_result"
    }
   ],
   "source": [
    "a.std()"
   ]
  },
  {
   "cell_type": "code",
   "execution_count": 16,
   "id": "723035d4-0de7-464b-9412-0b1030d36443",
   "metadata": {},
   "outputs": [
    {
     "data": {
      "text/plain": [
       "144.0243035046516"
      ]
     },
     "execution_count": 16,
     "metadata": {},
     "output_type": "execute_result"
    }
   ],
   "source": [
    "c.std()"
   ]
  },
  {
   "cell_type": "markdown",
   "id": "682cf326-0321-49a0-8907-0fb572162207",
   "metadata": {},
   "source": [
    "## 6) A common statistical operation on a dataset is centering. This means to adjust the data such that the mean of the data is 0. This is done by subtracting the mean from each data point. Center the data set. See this link for more on centering"
   ]
  },
  {
   "cell_type": "code",
   "execution_count": 17,
   "id": "7308ef3c-6b8d-4bee-ac4a-a185ea3c7064",
   "metadata": {},
   "outputs": [
    {
     "data": {
      "text/plain": [
       "array([  1,   7,   9,  20,  -5,  -4,  -3,  -3,  -3,  -9,   0, -10])"
      ]
     },
     "execution_count": 17,
     "metadata": {},
     "output_type": "execute_result"
    }
   ],
   "source": [
    "d = a - 3\n",
    "\n",
    "d"
   ]
  },
  {
   "cell_type": "code",
   "execution_count": 18,
   "id": "0bb6f639-6749-462e-9ba5-d5722db4426c",
   "metadata": {},
   "outputs": [
    {
     "data": {
      "text/plain": [
       "0.0"
      ]
     },
     "execution_count": 18,
     "metadata": {},
     "output_type": "execute_result"
    }
   ],
   "source": [
    "d.mean()"
   ]
  },
  {
   "cell_type": "markdown",
   "id": "8b95aa19-5e11-4a84-997a-4668ba5ee2ac",
   "metadata": {},
   "source": [
    "## 7) Calculate the z-score for each data point. Recall that the z-score is given by:\n",
    "\n",
    "Z = (x − μ) / σ\n"
   ]
  },
  {
   "cell_type": "code",
   "execution_count": 19,
   "id": "59dbbe41-5b3a-46a3-9deb-cfb76af942d4",
   "metadata": {},
   "outputs": [
    {
     "data": {
      "text/plain": [
       "array([ 0.12403473,  0.86824314,  1.11631261,  2.48069469, -0.62017367,\n",
       "       -0.49613894, -0.3721042 , -0.3721042 , -0.3721042 , -1.11631261,\n",
       "        0.        , -1.24034735])"
      ]
     },
     "execution_count": 19,
     "metadata": {},
     "output_type": "execute_result"
    }
   ],
   "source": [
    "import scipy.stats as stats\n",
    "\n",
    "stats.zscore(a)"
   ]
  },
  {
   "cell_type": "code",
   "execution_count": 20,
   "id": "4da51074-0e55-41d3-8736-dc698650d927",
   "metadata": {},
   "outputs": [
    {
     "data": {
      "text/plain": [
       "array([ 0.12403473,  0.86824314,  1.11631261,  2.48069469, -0.62017367,\n",
       "       -0.49613894, -0.3721042 , -0.3721042 , -0.3721042 , -1.11631261,\n",
       "        0.        , -1.24034735])"
      ]
     },
     "execution_count": 20,
     "metadata": {},
     "output_type": "execute_result"
    }
   ],
   "source": [
    "z = (a - 3) / (a.std())\n",
    "\n",
    "z"
   ]
  },
  {
   "cell_type": "markdown",
   "id": "939048d1-bf6f-4452-b69a-d52497aad6d4",
   "metadata": {},
   "source": [
    "## 8) Copy the setup and exercise directions from More Numpy Practice into your numpy_exercises.py and add your solutions."
   ]
  },
  {
   "cell_type": "code",
   "execution_count": 21,
   "id": "22f182c1-9b67-421e-b7c8-5ba5d8ec4770",
   "metadata": {},
   "outputs": [],
   "source": [
    "## Setup 1\n",
    "a = [1, 2, 3, 4, 5, 6, 7, 8, 9, 10]"
   ]
  },
  {
   "cell_type": "markdown",
   "id": "aa0f7219-5a59-493a-ac16-48283cc10b7d",
   "metadata": {},
   "source": [
    "- Exercise 1 - Make a variable called sum_of_a to hold the sum of all the numbers in above list"
   ]
  },
  {
   "cell_type": "code",
   "execution_count": 22,
   "id": "38989b34-a13e-4bf7-a87e-17ee83de5639",
   "metadata": {},
   "outputs": [
    {
     "data": {
      "text/plain": [
       "55"
      ]
     },
     "execution_count": 22,
     "metadata": {},
     "output_type": "execute_result"
    }
   ],
   "source": [
    "sum_of_a = sum(a)\n",
    "\n",
    "sum_of_a"
   ]
  },
  {
   "cell_type": "markdown",
   "id": "2be943db-82a5-4969-87cf-fafab58bf85e",
   "metadata": {},
   "source": [
    "- Exercise 2 - Make a variable named min_of_a to hold the minimum of all the numbers in the above list"
   ]
  },
  {
   "cell_type": "code",
   "execution_count": 23,
   "id": "4e0db2ea-83b5-4ec9-83df-65af096ac47f",
   "metadata": {},
   "outputs": [
    {
     "data": {
      "text/plain": [
       "1"
      ]
     },
     "execution_count": 23,
     "metadata": {},
     "output_type": "execute_result"
    }
   ],
   "source": [
    "min_of_a = min(a)\n",
    "\n",
    "min_of_a"
   ]
  },
  {
   "cell_type": "markdown",
   "id": "297edf43-26e5-492b-939b-c1ee583e4806",
   "metadata": {},
   "source": [
    "- Exercise 3 - Make a variable named max_of_a to hold the max number of all the numbers in the above list"
   ]
  },
  {
   "cell_type": "code",
   "execution_count": 24,
   "id": "b8f5543a-0733-4b55-9083-477519a34565",
   "metadata": {},
   "outputs": [
    {
     "data": {
      "text/plain": [
       "10"
      ]
     },
     "execution_count": 24,
     "metadata": {},
     "output_type": "execute_result"
    }
   ],
   "source": [
    "max_of_a = max(a)\n",
    "\n",
    "max_of_a"
   ]
  },
  {
   "cell_type": "markdown",
   "id": "dddb59df-4967-4e20-ba99-3f8630f0edd9",
   "metadata": {},
   "source": [
    "- Exercise 4 - Make a variable named mean_of_a to hold the average of all the numbers in the above list"
   ]
  },
  {
   "cell_type": "code",
   "execution_count": 26,
   "id": "64ae68bb-8a08-42f1-be84-b84672631be4",
   "metadata": {},
   "outputs": [
    {
     "data": {
      "text/plain": [
       "5.5"
      ]
     },
     "execution_count": 26,
     "metadata": {},
     "output_type": "execute_result"
    }
   ],
   "source": [
    "mean_of_a = np.mean(a)\n",
    "\n",
    "mean_of_a"
   ]
  },
  {
   "cell_type": "markdown",
   "id": "735859fe-3888-4a1b-8f8e-72a60ae047f3",
   "metadata": {},
   "source": [
    "- Exercise 5 - Make a variable named product_of_a to hold the product of multiplying all the numbers in the above list together"
   ]
  },
  {
   "cell_type": "code",
   "execution_count": 27,
   "id": "b8a3dab7-abb8-4211-a6ac-6e1c6799ef3c",
   "metadata": {},
   "outputs": [
    {
     "data": {
      "text/plain": [
       "3628800"
      ]
     },
     "execution_count": 27,
     "metadata": {},
     "output_type": "execute_result"
    }
   ],
   "source": [
    "product_of_a = np.prod(a)\n",
    "\n",
    "product_of_a"
   ]
  },
  {
   "cell_type": "markdown",
   "id": "dbd4e5ee-64ab-4cd8-a2db-6173429e7704",
   "metadata": {},
   "source": [
    "- Exercise 6 - Make a variable named squares_of_a. It should hold each number in a squared like [1, 4, 9, 16, 25...]"
   ]
  },
  {
   "cell_type": "code",
   "execution_count": 29,
   "id": "3139c8e5-e7d8-4a0a-a979-45693c4458b2",
   "metadata": {},
   "outputs": [
    {
     "data": {
      "text/plain": [
       "array([  1,   4,   9,  16,  25,  36,  49,  64,  81, 100])"
      ]
     },
     "execution_count": 29,
     "metadata": {},
     "output_type": "execute_result"
    }
   ],
   "source": [
    "squares_of_a = np.array(a) ** 2\n",
    "\n",
    "squares_of_a"
   ]
  },
  {
   "cell_type": "markdown",
   "id": "a2b0643d-a51a-407f-a12e-f6455947cea7",
   "metadata": {},
   "source": [
    "- Exercise 7 - Make a variable named odds_in_a. It should hold only the odd numbers"
   ]
  },
  {
   "cell_type": "code",
   "execution_count": 31,
   "id": "a8195e48-4879-4922-9eae-39da1023ca4d",
   "metadata": {},
   "outputs": [
    {
     "data": {
      "text/plain": [
       "array([1, 3, 5, 7, 9])"
      ]
     },
     "execution_count": 31,
     "metadata": {},
     "output_type": "execute_result"
    }
   ],
   "source": [
    "odds_in_a = np.array(a)[np.array(a) % 2 == 1]\n",
    "\n",
    "odds_in_a"
   ]
  },
  {
   "cell_type": "markdown",
   "id": "e9cbbda2-e82a-4df7-8d25-1c3c9eb373d4",
   "metadata": {},
   "source": [
    "- Exercise 8 - Make a variable named evens_in_a. It should hold only the evens"
   ]
  },
  {
   "cell_type": "code",
   "execution_count": 32,
   "id": "7eac419b-7773-4e07-9997-cf5b696f4c07",
   "metadata": {},
   "outputs": [
    {
     "data": {
      "text/plain": [
       "array([ 2,  4,  6,  8, 10])"
      ]
     },
     "execution_count": 32,
     "metadata": {},
     "output_type": "execute_result"
    }
   ],
   "source": [
    "evens_in_a = np.array(a)[np.array(a) % 2 == 0\n",
    "                        ]\n",
    "\n",
    "evens_in_a"
   ]
  },
  {
   "cell_type": "code",
   "execution_count": 33,
   "id": "bbb00555-e0b5-44f1-933f-57a002302bab",
   "metadata": {},
   "outputs": [],
   "source": [
    "## What about life in two dimensions? A list of lists is matrix, a table, a spreadsheet, a chessboard...\n",
    "## Setup 2: Consider what it would take to find the sum, min, max, average, sum, product, and list of squares for this list of two lists.\n",
    "b = [\n",
    "    [3, 4, 5],\n",
    "    [6, 7, 8]\n",
    "]"
   ]
  },
  {
   "cell_type": "code",
   "execution_count": 34,
   "id": "9a24b6d5-ff92-4743-b7da-ef3820314a01",
   "metadata": {},
   "outputs": [
    {
     "data": {
      "text/plain": [
       "[[3, 4, 5], [6, 7, 8]]"
      ]
     },
     "execution_count": 34,
     "metadata": {},
     "output_type": "execute_result"
    }
   ],
   "source": [
    "b"
   ]
  },
  {
   "cell_type": "code",
   "execution_count": null,
   "id": "5f590438-c96d-41f4-ad3a-91c46932e19a",
   "metadata": {},
   "outputs": [],
   "source": []
  }
 ],
 "metadata": {
  "kernelspec": {
   "display_name": "Python 3 (ipykernel)",
   "language": "python",
   "name": "python3"
  },
  "language_info": {
   "codemirror_mode": {
    "name": "ipython",
    "version": 3
   },
   "file_extension": ".py",
   "mimetype": "text/x-python",
   "name": "python",
   "nbconvert_exporter": "python",
   "pygments_lexer": "ipython3",
   "version": "3.9.7"
  }
 },
 "nbformat": 4,
 "nbformat_minor": 5
}
