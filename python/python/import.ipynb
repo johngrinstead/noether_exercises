{
 "cells": [
  {
   "cell_type": "markdown",
   "id": "d404b01d-cbad-4193-a56c-a27fb2627c44",
   "metadata": {},
   "source": [
    "# Exercises\n"
   ]
  },
  {
   "cell_type": "markdown",
   "id": "20082708-76ee-4aa5-87b2-4e02094506ed",
   "metadata": {},
   "source": [
    "## 1) Import and test 3 of the functions from your functions exercise file. Import each function in a different way"
   ]
  },
  {
   "cell_type": "markdown",
   "id": "3aec8127-36ba-4c0e-b898-c70a70ce4b49",
   "metadata": {},
   "source": [
    "### A) Run an interactive python session and import the module. Call the is_vowel function using the . syntax"
   ]
  },
  {
   "cell_type": "code",
   "execution_count": 1,
   "id": "88055b37-da3a-4193-9cb8-53fd7b4d5999",
   "metadata": {},
   "outputs": [],
   "source": [
    "import functions"
   ]
  },
  {
   "cell_type": "code",
   "execution_count": 2,
   "id": "58c0c7e6-35c7-4e05-8a4c-b771a1a9913b",
   "metadata": {},
   "outputs": [
    {
     "data": {
      "text/plain": [
       "True"
      ]
     },
     "execution_count": 2,
     "metadata": {},
     "output_type": "execute_result"
    }
   ],
   "source": [
    "functions.is_vowel('a')"
   ]
  },
  {
   "cell_type": "markdown",
   "id": "abd63408-e6f0-4d9c-ad90-90ca3bda61e6",
   "metadata": {},
   "source": [
    "### B) Create a file named import_exericses.py. Within this file, use from to import the calculate_tip function directly. Call this function with values you choose and print the result"
   ]
  },
  {
   "cell_type": "code",
   "execution_count": 3,
   "id": "6bed959b-a657-4b35-b753-d18d79a021d6",
   "metadata": {},
   "outputs": [],
   "source": [
    "from functions import calculate_tip"
   ]
  },
  {
   "cell_type": "code",
   "execution_count": 4,
   "id": "90b4ad87-c077-40fe-8217-41411f6d3918",
   "metadata": {},
   "outputs": [
    {
     "data": {
      "text/plain": [
       "25.0"
      ]
     },
     "execution_count": 4,
     "metadata": {},
     "output_type": "execute_result"
    }
   ],
   "source": [
    "calculate_tip(.25, 100)"
   ]
  },
  {
   "cell_type": "markdown",
   "id": "f7bc992a-7ff2-42c8-b3c4-671e0c2ef327",
   "metadata": {},
   "source": [
    "### C) Create a jupyter notebook named import_exercises.ipynb. Use from to import the get_letter_grade function and give it an alias. Test this function in your notebook"
   ]
  },
  {
   "cell_type": "code",
   "execution_count": 5,
   "id": "5eab2417-abae-47e8-b1df-b672e02d5480",
   "metadata": {},
   "outputs": [],
   "source": [
    "from functions import get_letter_grade as glg"
   ]
  },
  {
   "cell_type": "code",
   "execution_count": 6,
   "id": "cd7f7ba3-0c38-416d-818a-8697abb0bf96",
   "metadata": {},
   "outputs": [
    {
     "data": {
      "text/plain": [
       "'A'"
      ]
     },
     "execution_count": 6,
     "metadata": {},
     "output_type": "execute_result"
    }
   ],
   "source": [
    "glg(98)"
   ]
  },
  {
   "cell_type": "markdown",
   "id": "d288e2d4-3321-4de1-ac72-006c5b97ae3c",
   "metadata": {},
   "source": [
    "## 2) Read about and use the itertools module from the python standard library to help you solve the following problems"
   ]
  },
  {
   "cell_type": "code",
   "execution_count": 7,
   "id": "d77e7242-cb82-467f-9cf8-ee94307a4c74",
   "metadata": {},
   "outputs": [],
   "source": [
    "import itertools as it"
   ]
  },
  {
   "cell_type": "markdown",
   "id": "634c86b8-622d-48c0-80a2-45d08d8d691c",
   "metadata": {},
   "source": [
    "- How many different ways can you combine the letters from \"abc\" with the numbers 1, 2, and 3?"
   ]
  },
  {
   "cell_type": "code",
   "execution_count": 8,
   "id": "cb417178-c674-4f61-8300-5c1ade11e2a4",
   "metadata": {},
   "outputs": [
    {
     "data": {
      "text/plain": [
       "9"
      ]
     },
     "execution_count": 8,
     "metadata": {},
     "output_type": "execute_result"
    }
   ],
   "source": [
    "len(list(it.product('abc', [1,2,3])))"
   ]
  },
  {
   "cell_type": "code",
   "execution_count": 30,
   "id": "d97b1b5e-fd9a-4c7f-85b3-731bf335514e",
   "metadata": {},
   "outputs": [
    {
     "data": {
      "text/plain": [
       "[('a', 1),\n",
       " ('a', 2),\n",
       " ('a', 3),\n",
       " ('b', 1),\n",
       " ('b', 2),\n",
       " ('b', 3),\n",
       " ('c', 1),\n",
       " ('c', 2),\n",
       " ('c', 3)]"
      ]
     },
     "execution_count": 30,
     "metadata": {},
     "output_type": "execute_result"
    }
   ],
   "source": [
    "list(it.product('abc', [1,2,3]))"
   ]
  },
  {
   "cell_type": "markdown",
   "id": "7c27a962-2b59-4db6-8015-f83af274059d",
   "metadata": {},
   "source": [
    "- How many different combinations are there of 2 letters from \"abcd\"?"
   ]
  },
  {
   "cell_type": "code",
   "execution_count": 9,
   "id": "59fa56c5-37c4-4ce0-b7a9-11d4fb3ca00a",
   "metadata": {},
   "outputs": [
    {
     "data": {
      "text/plain": [
       "6"
      ]
     },
     "execution_count": 9,
     "metadata": {},
     "output_type": "execute_result"
    }
   ],
   "source": [
    "len(list(it.combinations('abcd',2)))"
   ]
  },
  {
   "cell_type": "code",
   "execution_count": 32,
   "id": "d7f6b9d6-ca3d-4012-8fe5-61a868b767d8",
   "metadata": {},
   "outputs": [
    {
     "data": {
      "text/plain": [
       "[('a', 'b'), ('a', 'c'), ('a', 'd'), ('b', 'c'), ('b', 'd'), ('c', 'd')]"
      ]
     },
     "execution_count": 32,
     "metadata": {},
     "output_type": "execute_result"
    }
   ],
   "source": [
    "list(it.combinations('abcd',2))"
   ]
  },
  {
   "cell_type": "markdown",
   "id": "d6623dcf-6208-4197-b86b-533d3c9cf50f",
   "metadata": {},
   "source": [
    "- How many different permutations are there of 2 letters from \"abcd\"?"
   ]
  },
  {
   "cell_type": "code",
   "execution_count": 10,
   "id": "5ea9d669-7c92-45d1-9ff7-7d7260db61df",
   "metadata": {},
   "outputs": [
    {
     "data": {
      "text/plain": [
       "12"
      ]
     },
     "execution_count": 10,
     "metadata": {},
     "output_type": "execute_result"
    }
   ],
   "source": [
    "len(list(it.permutations('abcd',2)))"
   ]
  },
  {
   "cell_type": "code",
   "execution_count": 33,
   "id": "5fb21fe0-cbe4-4a0c-85cd-30cdd17a6aaa",
   "metadata": {},
   "outputs": [
    {
     "data": {
      "text/plain": [
       "[('a', 'b'),\n",
       " ('a', 'c'),\n",
       " ('a', 'd'),\n",
       " ('b', 'a'),\n",
       " ('b', 'c'),\n",
       " ('b', 'd'),\n",
       " ('c', 'a'),\n",
       " ('c', 'b'),\n",
       " ('c', 'd'),\n",
       " ('d', 'a'),\n",
       " ('d', 'b'),\n",
       " ('d', 'c')]"
      ]
     },
     "execution_count": 33,
     "metadata": {},
     "output_type": "execute_result"
    }
   ],
   "source": [
    "list(it.permutations('abcd',2))"
   ]
  },
  {
   "cell_type": "markdown",
   "id": "e5cbd62e-5015-4de5-8a89-6ee78a878fdc",
   "metadata": {},
   "source": [
    "## 3) Save this file as profiles.json inside of your exercises directory (right click -> save file as...).\n",
    "\n",
    "Use the load function from the json module to open this file."
   ]
  },
  {
   "cell_type": "code",
   "execution_count": 11,
   "id": "d8b77552-5d8b-4ebc-93c9-1d2f87128dd4",
   "metadata": {},
   "outputs": [
    {
     "data": {
      "text/plain": [
       "{'_id': '54e23c3e46ab53a440b580e8',\n",
       " 'index': 0,\n",
       " 'guid': '9962b468-ef3e-4993-b677-617469bc3008',\n",
       " 'isActive': False,\n",
       " 'balance': '$2,097.02',\n",
       " 'picture': 'http://placehold.it/32x32',\n",
       " 'age': 39,\n",
       " 'eyeColor': 'blue',\n",
       " 'name': 'Hebert Estes',\n",
       " 'gender': 'male',\n",
       " 'company': 'ANDRYX',\n",
       " 'email': 'hebertestes@andryx.com',\n",
       " 'phone': '+1 (866) 456-2268',\n",
       " 'address': '121 Emmons Avenue, Klondike, Kentucky, 5975',\n",
       " 'about': 'Sit cillum deserunt irure laboris tempor fugiat laboris. Amet commodo amet est incididunt. Dolore qui fugiat cillum pariatur dolore excepteur elit ipsum.\\r\\n',\n",
       " 'registered': '2014-11-10T01:44:03 +06:00',\n",
       " 'latitude': -80.157843,\n",
       " 'longitude': 161.93016,\n",
       " 'tags': ['sit', 'occaecat', 'non', 'ea', 'sit', 'laboris', 'exercitation'],\n",
       " 'friends': [{'id': 0, 'name': 'Tanisha Leonard'},\n",
       "  {'id': 1, 'name': 'Dennis Wilson'},\n",
       "  {'id': 2, 'name': 'Lupe Howe'}],\n",
       " 'greeting': 'Hello, Hebert Estes! You have 4 unread messages.',\n",
       " 'favoriteFruit': 'strawberry'}"
      ]
     },
     "execution_count": 11,
     "metadata": {},
     "output_type": "execute_result"
    }
   ],
   "source": [
    "import json\n",
    "\n",
    "profiles = json.load(open('profiles.json'))\n",
    "\n",
    "profiles[0]"
   ]
  },
  {
   "cell_type": "markdown",
   "id": "3e1664c1-d3d2-4710-b6e5-fca809558bfc",
   "metadata": {},
   "source": [
    "- Total number of users"
   ]
  },
  {
   "cell_type": "code",
   "execution_count": 12,
   "id": "5b5c3440-4a4a-404a-b797-dda1bfdd824e",
   "metadata": {},
   "outputs": [
    {
     "data": {
      "text/plain": [
       "19"
      ]
     },
     "execution_count": 12,
     "metadata": {},
     "output_type": "execute_result"
    }
   ],
   "source": [
    "len(profiles)"
   ]
  },
  {
   "cell_type": "markdown",
   "id": "fc5ec3bc-78e1-45fd-afe2-bd7f412edb3a",
   "metadata": {},
   "source": [
    "- Total number of users"
   ]
  },
  {
   "cell_type": "code",
   "execution_count": 13,
   "id": "d26740d4-7229-4d47-abae-990f55404f11",
   "metadata": {},
   "outputs": [
    {
     "data": {
      "text/plain": [
       "9"
      ]
     },
     "execution_count": 13,
     "metadata": {},
     "output_type": "execute_result"
    }
   ],
   "source": [
    "count = 0\n",
    "\n",
    "for profile in profiles:\n",
    "    if profile['isActive'] == True:\n",
    "        count += 1\n",
    "        \n",
    "count"
   ]
  },
  {
   "cell_type": "markdown",
   "id": "3a11e767-d52b-490b-a3b7-b259b664f4b6",
   "metadata": {},
   "source": [
    "- Number of inactive users"
   ]
  },
  {
   "cell_type": "code",
   "execution_count": 14,
   "id": "846daf3c-d1e4-4445-a91f-06d023991e1b",
   "metadata": {},
   "outputs": [
    {
     "data": {
      "text/plain": [
       "10"
      ]
     },
     "execution_count": 14,
     "metadata": {},
     "output_type": "execute_result"
    }
   ],
   "source": [
    "count = 0\n",
    "\n",
    "for profile in profiles:\n",
    "    if profile['isActive'] == False:\n",
    "        count += 1\n",
    "        \n",
    "count"
   ]
  },
  {
   "cell_type": "markdown",
   "id": "e9805980-f5d0-4f76-80a4-33b9b1be1c91",
   "metadata": {},
   "source": [
    "- Grand total of balances for all users"
   ]
  },
  {
   "cell_type": "code",
   "execution_count": 15,
   "id": "c52a1373-ff8f-49f6-8133-7c28c2c82ed3",
   "metadata": {},
   "outputs": [
    {
     "data": {
      "text/plain": [
       "52667.02"
      ]
     },
     "execution_count": 15,
     "metadata": {},
     "output_type": "execute_result"
    }
   ],
   "source": [
    "grand_total = 0\n",
    "\n",
    "for profile in profiles:\n",
    "    user_balance = float(profile['balance'].strip('$').replace(',', ''))\n",
    "    grand_total = grand_total + user_balance\n",
    "        \n",
    "grand_total"
   ]
  },
  {
   "cell_type": "markdown",
   "id": "917e5c5d-f603-4f42-ba6d-d91e6a79918c",
   "metadata": {},
   "source": [
    "- Average balance per user"
   ]
  },
  {
   "cell_type": "code",
   "execution_count": 16,
   "id": "f142c230-0704-4a2f-a3c7-28abed17743a",
   "metadata": {},
   "outputs": [
    {
     "data": {
      "text/plain": [
       "2771.9484210526316"
      ]
     },
     "execution_count": 16,
     "metadata": {},
     "output_type": "execute_result"
    }
   ],
   "source": [
    "grand_total = 0\n",
    "\n",
    "for profile in profiles:\n",
    "    user_balance = float(profile['balance'].strip('$').replace(',', ''))\n",
    "    grand_total = grand_total + user_balance\n",
    "    \n",
    "avg_balance = grand_total / len(profiles)\n",
    "        \n",
    "avg_balance"
   ]
  },
  {
   "cell_type": "markdown",
   "id": "6870672b-5386-4a0e-95ff-a1d93d7c705e",
   "metadata": {},
   "source": [
    "- User with the lowest balance"
   ]
  },
  {
   "cell_type": "code",
   "execution_count": 17,
   "id": "2199c438-a6e5-42ae-8627-0bf99e576d93",
   "metadata": {},
   "outputs": [],
   "source": [
    "for profile in profiles:\n",
    "    profile['balance'] = float(profile['balance'].strip('$').replace(',', ''))"
   ]
  },
  {
   "cell_type": "code",
   "execution_count": 18,
   "id": "43c6c860-fca5-4b9a-b8f8-e89ae78c9f59",
   "metadata": {},
   "outputs": [
    {
     "data": {
      "text/plain": [
       "{'_id': '54e23c3e46ab53a440b580e8',\n",
       " 'index': 0,\n",
       " 'guid': '9962b468-ef3e-4993-b677-617469bc3008',\n",
       " 'isActive': False,\n",
       " 'balance': 2097.02,\n",
       " 'picture': 'http://placehold.it/32x32',\n",
       " 'age': 39,\n",
       " 'eyeColor': 'blue',\n",
       " 'name': 'Hebert Estes',\n",
       " 'gender': 'male',\n",
       " 'company': 'ANDRYX',\n",
       " 'email': 'hebertestes@andryx.com',\n",
       " 'phone': '+1 (866) 456-2268',\n",
       " 'address': '121 Emmons Avenue, Klondike, Kentucky, 5975',\n",
       " 'about': 'Sit cillum deserunt irure laboris tempor fugiat laboris. Amet commodo amet est incididunt. Dolore qui fugiat cillum pariatur dolore excepteur elit ipsum.\\r\\n',\n",
       " 'registered': '2014-11-10T01:44:03 +06:00',\n",
       " 'latitude': -80.157843,\n",
       " 'longitude': 161.93016,\n",
       " 'tags': ['sit', 'occaecat', 'non', 'ea', 'sit', 'laboris', 'exercitation'],\n",
       " 'friends': [{'id': 0, 'name': 'Tanisha Leonard'},\n",
       "  {'id': 1, 'name': 'Dennis Wilson'},\n",
       "  {'id': 2, 'name': 'Lupe Howe'}],\n",
       " 'greeting': 'Hello, Hebert Estes! You have 4 unread messages.',\n",
       " 'favoriteFruit': 'strawberry'}"
      ]
     },
     "execution_count": 18,
     "metadata": {},
     "output_type": "execute_result"
    }
   ],
   "source": [
    "profiles[0]"
   ]
  },
  {
   "cell_type": "code",
   "execution_count": 34,
   "id": "1d2a53f8-56a5-4e36-b6e0-4763bcf419a9",
   "metadata": {},
   "outputs": [
    {
     "data": {
      "text/plain": [
       "'Avery Flynn'"
      ]
     },
     "execution_count": 34,
     "metadata": {},
     "output_type": "execute_result"
    }
   ],
   "source": [
    "lowest_balance = profiles[0]\n",
    "\n",
    "for profile in profiles:\n",
    "    if profile['balance'] < lowest_balance['balance']:\n",
    "        lowest_balance = profile\n",
    "        \n",
    "lowest_balance['name']"
   ]
  },
  {
   "cell_type": "markdown",
   "id": "17b4a4fb-7197-4c6d-8977-b079d73f4721",
   "metadata": {},
   "source": [
    "- User with the highest balance"
   ]
  },
  {
   "cell_type": "code",
   "execution_count": 35,
   "id": "c19fb19c-7fd3-4c32-8d56-1bc7355ab361",
   "metadata": {},
   "outputs": [
    {
     "data": {
      "text/plain": [
       "'Fay Hammond'"
      ]
     },
     "execution_count": 35,
     "metadata": {},
     "output_type": "execute_result"
    }
   ],
   "source": [
    "highest_balance = profiles[0]\n",
    "\n",
    "for profile in profiles:\n",
    "    if profile['balance'] > highest_balance['balance']:\n",
    "        highest_balance = profile\n",
    "        \n",
    "highest_balance['name']"
   ]
  },
  {
   "cell_type": "markdown",
   "id": "a74778a8-496c-4063-8645-a0b599512d28",
   "metadata": {},
   "source": [
    "- Most common favorite fruit"
   ]
  },
  {
   "cell_type": "code",
   "execution_count": 21,
   "id": "3add892f-109f-4d74-9168-1a661169083b",
   "metadata": {},
   "outputs": [
    {
     "name": "stdout",
     "output_type": "stream",
     "text": [
      "strawberry\n",
      "apple\n",
      "banana\n",
      "banana\n",
      "apple\n",
      "apple\n",
      "banana\n",
      "strawberry\n",
      "strawberry\n",
      "banana\n",
      "strawberry\n",
      "strawberry\n",
      "apple\n",
      "strawberry\n",
      "strawberry\n",
      "banana\n",
      "strawberry\n",
      "banana\n",
      "strawberry\n"
     ]
    }
   ],
   "source": [
    "fruits = []\n",
    "\n",
    "for profile in profiles:\n",
    "    print(profile['favoriteFruit'])\n",
    "    fruits.append(profile['favoriteFruit'])"
   ]
  },
  {
   "cell_type": "code",
   "execution_count": 22,
   "id": "e6aade36-d014-4614-8e87-81e7188537ba",
   "metadata": {},
   "outputs": [
    {
     "data": {
      "text/plain": [
       "['strawberry',\n",
       " 'apple',\n",
       " 'banana',\n",
       " 'banana',\n",
       " 'apple',\n",
       " 'apple',\n",
       " 'banana',\n",
       " 'strawberry',\n",
       " 'strawberry',\n",
       " 'banana',\n",
       " 'strawberry',\n",
       " 'strawberry',\n",
       " 'apple',\n",
       " 'strawberry',\n",
       " 'strawberry',\n",
       " 'banana',\n",
       " 'strawberry',\n",
       " 'banana',\n",
       " 'strawberry']"
      ]
     },
     "execution_count": 22,
     "metadata": {},
     "output_type": "execute_result"
    }
   ],
   "source": [
    "fruits"
   ]
  },
  {
   "cell_type": "code",
   "execution_count": 23,
   "id": "07ab3790-8868-4866-911d-d2df327de157",
   "metadata": {},
   "outputs": [
    {
     "data": {
      "text/plain": [
       "'strawberry'"
      ]
     },
     "execution_count": 23,
     "metadata": {},
     "output_type": "execute_result"
    }
   ],
   "source": [
    "max(fruits, key=fruits.count)"
   ]
  },
  {
   "cell_type": "code",
   "execution_count": 38,
   "id": "061448fb-8c27-4ac7-9114-03ad451480a0",
   "metadata": {},
   "outputs": [
    {
     "data": {
      "text/plain": [
       "{'apple', 'banana', 'strawberry'}"
      ]
     },
     "execution_count": 38,
     "metadata": {},
     "output_type": "execute_result"
    }
   ],
   "source": [
    "set(fruits)"
   ]
  },
  {
   "cell_type": "code",
   "execution_count": 24,
   "id": "93d24a2b-3543-452a-a18f-1f0f6c074301",
   "metadata": {},
   "outputs": [
    {
     "data": {
      "text/plain": [
       "4"
      ]
     },
     "execution_count": 24,
     "metadata": {},
     "output_type": "execute_result"
    }
   ],
   "source": [
    "fruits.count('apple')"
   ]
  },
  {
   "cell_type": "code",
   "execution_count": 25,
   "id": "b6f690d3-8107-4c7b-b19b-73e220953874",
   "metadata": {},
   "outputs": [
    {
     "data": {
      "text/plain": [
       "9"
      ]
     },
     "execution_count": 25,
     "metadata": {},
     "output_type": "execute_result"
    }
   ],
   "source": [
    "fruits.count('strawberry')"
   ]
  },
  {
   "cell_type": "code",
   "execution_count": 26,
   "id": "ec48bd60-554a-40f6-ac41-e88b8e974364",
   "metadata": {},
   "outputs": [
    {
     "data": {
      "text/plain": [
       "6"
      ]
     },
     "execution_count": 26,
     "metadata": {},
     "output_type": "execute_result"
    }
   ],
   "source": [
    "fruits.count('banana')"
   ]
  },
  {
   "cell_type": "markdown",
   "id": "4e755e3a-bbc3-46b5-804b-ce01d2c5ee7a",
   "metadata": {},
   "source": [
    "- Least most common favorite fruit"
   ]
  },
  {
   "cell_type": "code",
   "execution_count": 27,
   "id": "23056950-f36a-48e3-83b9-654c60319119",
   "metadata": {},
   "outputs": [
    {
     "data": {
      "text/plain": [
       "'apple'"
      ]
     },
     "execution_count": 27,
     "metadata": {},
     "output_type": "execute_result"
    }
   ],
   "source": [
    "min(fruits, key=fruits.count)"
   ]
  },
  {
   "cell_type": "markdown",
   "id": "150c41ea-02a7-4785-ac50-d7a8a7c0db26",
   "metadata": {},
   "source": [
    "- Total number of unread messages for all users"
   ]
  },
  {
   "cell_type": "code",
   "execution_count": 28,
   "id": "8319c405-21f3-494d-b846-01ecd5704980",
   "metadata": {},
   "outputs": [
    {
     "data": {
      "text/plain": [
       "{'_id': '54e23c3e46ab53a440b580e8',\n",
       " 'index': 0,\n",
       " 'guid': '9962b468-ef3e-4993-b677-617469bc3008',\n",
       " 'isActive': False,\n",
       " 'balance': 2097.02,\n",
       " 'picture': 'http://placehold.it/32x32',\n",
       " 'age': 39,\n",
       " 'eyeColor': 'blue',\n",
       " 'name': 'Hebert Estes',\n",
       " 'gender': 'male',\n",
       " 'company': 'ANDRYX',\n",
       " 'email': 'hebertestes@andryx.com',\n",
       " 'phone': '+1 (866) 456-2268',\n",
       " 'address': '121 Emmons Avenue, Klondike, Kentucky, 5975',\n",
       " 'about': 'Sit cillum deserunt irure laboris tempor fugiat laboris. Amet commodo amet est incididunt. Dolore qui fugiat cillum pariatur dolore excepteur elit ipsum.\\r\\n',\n",
       " 'registered': '2014-11-10T01:44:03 +06:00',\n",
       " 'latitude': -80.157843,\n",
       " 'longitude': 161.93016,\n",
       " 'tags': ['sit', 'occaecat', 'non', 'ea', 'sit', 'laboris', 'exercitation'],\n",
       " 'friends': [{'id': 0, 'name': 'Tanisha Leonard'},\n",
       "  {'id': 1, 'name': 'Dennis Wilson'},\n",
       "  {'id': 2, 'name': 'Lupe Howe'}],\n",
       " 'greeting': 'Hello, Hebert Estes! You have 4 unread messages.',\n",
       " 'favoriteFruit': 'strawberry'}"
      ]
     },
     "execution_count": 28,
     "metadata": {},
     "output_type": "execute_result"
    }
   ],
   "source": [
    "profiles[0]"
   ]
  },
  {
   "cell_type": "code",
   "execution_count": 29,
   "id": "e4502bda-f903-4584-ac1e-f3e87559acf1",
   "metadata": {},
   "outputs": [
    {
     "data": {
      "text/plain": [
       "210"
      ]
     },
     "execution_count": 29,
     "metadata": {},
     "output_type": "execute_result"
    }
   ],
   "source": [
    "unread_messages = 0\n",
    "\n",
    "for profile in profiles:\n",
    "    messages = profile['greeting'].split(' ')\n",
    "    for word in messages:\n",
    "        if word.isdigit():\n",
    "            unread_messages = unread_messages + int(word)\n",
    "            \n",
    "unread_messages "
   ]
  },
  {
   "cell_type": "code",
   "execution_count": null,
   "id": "e8de9c48-3094-4ff9-9867-c92a06697e94",
   "metadata": {},
   "outputs": [],
   "source": []
  }
 ],
 "metadata": {
  "kernelspec": {
   "display_name": "Python 3 (ipykernel)",
   "language": "python",
   "name": "python3"
  },
  "language_info": {
   "codemirror_mode": {
    "name": "ipython",
    "version": 3
   },
   "file_extension": ".py",
   "mimetype": "text/x-python",
   "name": "python",
   "nbconvert_exporter": "python",
   "pygments_lexer": "ipython3",
   "version": "3.9.7"
  }
 },
 "nbformat": 4,
 "nbformat_minor": 5
}
