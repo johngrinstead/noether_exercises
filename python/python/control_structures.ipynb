{
 "cells": [
  {
   "cell_type": "markdown",
   "id": "ad7108bb-eaf2-4f53-8d19-a80ecb58a0bc",
   "metadata": {},
   "source": [
    "# Conditionals"
   ]
  },
  {
   "cell_type": "code",
   "execution_count": 1,
   "id": "4459ea7d-1799-407e-847c-1ccf2a16be72",
   "metadata": {},
   "outputs": [
    {
     "name": "stdout",
     "output_type": "stream",
     "text": [
      "I like coffee!\n",
      "Coffee is the best!\n"
     ]
    }
   ],
   "source": [
    "## Assign the variable to a boolean value\n",
    "i_like_coffee = True\n",
    "\n",
    "## Use if to evaluate the boolean then describe the result \n",
    "if i_like_coffee:\n",
    "    print('I like coffee!')\n",
    "    print('Coffee is the best!')"
   ]
  },
  {
   "cell_type": "code",
   "execution_count": 2,
   "id": "9260a0b1-dfcc-445f-b5ed-2934cf633660",
   "metadata": {},
   "outputs": [
    {
     "name": "stdout",
     "output_type": "stream",
     "text": [
      "Looks like a nice, sunny day!\n"
     ]
    }
   ],
   "source": [
    "it_is_raining = False\n",
    "\n",
    "## Use else to describe a result if the value is False\n",
    "if it_is_raining:\n",
    "    print('Better bring an umbrella!')\n",
    "else:\n",
    "    print('Looks like a nice, sunny day!')"
   ]
  },
  {
   "cell_type": "code",
   "execution_count": 3,
   "id": "08839d36-2505-4c08-8701-f116738bd275",
   "metadata": {},
   "outputs": [
    {
     "name": "stdout",
     "output_type": "stream",
     "text": [
      "Middle of the road, huh?\n"
     ]
    }
   ],
   "source": [
    "coffee_preference = 'medium'\n",
    "\n",
    "## Use elif if you have more than 2 possible outcomes you want to prepare for \n",
    "if coffee_preference == 'dark':\n",
    "    print('I love a good dark roast!')\n",
    "elif coffee_preference == 'medium':\n",
    "    print('Middle of the road, huh?')\n",
    "elif coffee_preference == 'light':\n",
    "    print('Light roast has the most caffeine!')\n",
    "else:\n",
    "    print('How about some tea then?')"
   ]
  },
  {
   "cell_type": "markdown",
   "id": "2ea3c3a8-4a22-4b65-883e-d2bae9e7244e",
   "metadata": {},
   "source": [
    "# Loops"
   ]
  },
  {
   "cell_type": "markdown",
   "id": "f758f106-124b-4f34-ad21-b4d29dc713c1",
   "metadata": {},
   "source": [
    "## For "
   ]
  },
  {
   "cell_type": "code",
   "execution_count": 4,
   "id": "13241306-de2a-4028-b983-cdb63b8e502e",
   "metadata": {},
   "outputs": [
    {
     "name": "stdout",
     "output_type": "stream",
     "text": [
      "1\n",
      "2\n",
      "3\n"
     ]
    }
   ],
   "source": [
    "## Use for to describe a condition, then assign the task \n",
    "for number in range(1, 4):\n",
    "    print(number)"
   ]
  },
  {
   "cell_type": "code",
   "execution_count": 5,
   "id": "e91ce783-cec2-4656-8abc-092161b61d04",
   "metadata": {},
   "outputs": [
    {
     "name": "stdout",
     "output_type": "stream",
     "text": [
      "a\n",
      "b\n",
      "c\n",
      "d\n",
      "e\n"
     ]
    }
   ],
   "source": [
    "for letter in 'abcde':\n",
    "    print(letter)"
   ]
  },
  {
   "cell_type": "code",
   "execution_count": 6,
   "id": "d9fd498e-bde8-45d1-966d-e0c3c5e94617",
   "metadata": {},
   "outputs": [
    {
     "name": "stdout",
     "output_type": "stream",
     "text": [
      "bash is a nice programming language\n",
      "python is a nice programming language\n",
      "R is a nice programming language\n",
      "clojure is a nice programming language\n"
     ]
    }
   ],
   "source": [
    "languages = ['bash', 'python', 'R', 'clojure']\n",
    "\n",
    "for programming_language in languages:\n",
    "    print(f'{programming_language} is a nice programming language')"
   ]
  },
  {
   "cell_type": "code",
   "execution_count": 7,
   "id": "dbf79d3d-7905-4284-9d58-b0bf12dfde33",
   "metadata": {},
   "outputs": [
    {
     "name": "stdout",
     "output_type": "stream",
     "text": [
      "bash is a nice programming language\n",
      "python is my favorite!\n",
      "R is a nice programming language\n",
      "clojure is a nice programming language\n"
     ]
    }
   ],
   "source": [
    "## Use conditionals within the for loop if you would like to evaluate using booleans \n",
    "for programming_language in languages:\n",
    "    if programming_language == 'python':\n",
    "        print(f'{programming_language} is my favorite!')\n",
    "    else:\n",
    "        print(f'{programming_language} is a nice programming language')"
   ]
  },
  {
   "cell_type": "markdown",
   "id": "a87b2d47-87d1-4133-9a26-79d7e4e0ef1e",
   "metadata": {},
   "source": [
    "## While "
   ]
  },
  {
   "cell_type": "code",
   "execution_count": 8,
   "id": "28f7e2f6-d7af-4115-93e7-f531f4248638",
   "metadata": {},
   "outputs": [
    {
     "name": "stdout",
     "output_type": "stream",
     "text": [
      "5\n",
      "6\n",
      "7\n",
      "8\n",
      "9\n",
      "10\n"
     ]
    }
   ],
   "source": [
    "## Establish a condition\n",
    "i = 5\n",
    "\n",
    "## Use while to establish an end condition, then create a task \n",
    "while i <= 10:\n",
    "    print(i)\n",
    "    i += 1"
   ]
  },
  {
   "cell_type": "markdown",
   "id": "f390f580-1fc6-4300-9513-4e7c1b6db783",
   "metadata": {},
   "source": [
    "## Break and Continue "
   ]
  },
  {
   "cell_type": "code",
   "execution_count": 9,
   "id": "d2de698e-7e36-423b-a612-ba1ee22652b7",
   "metadata": {},
   "outputs": [
    {
     "name": "stdout",
     "output_type": "stream",
     "text": [
      "0\n",
      "1\n",
      "2\n",
      "3\n",
      "4\n",
      "5\n",
      "6\n",
      "7\n",
      "8\n",
      "9\n",
      "10\n",
      "11\n"
     ]
    }
   ],
   "source": [
    "## Use break to create an end condition within the loop\n",
    "for n in range(100_000):\n",
    "    print(n)\n",
    "    if n > 10:\n",
    "        break"
   ]
  },
  {
   "cell_type": "code",
   "execution_count": 10,
   "id": "b351ba23-de72-47b6-a91b-4788d6d5b166",
   "metadata": {},
   "outputs": [
    {
     "name": "stdout",
     "output_type": "stream",
     "text": [
      "Here is an odd number: 1\n",
      "Here is an odd number: 3\n",
      "Here is an odd number: 5\n",
      "Here is an odd number: 7\n",
      "Here is an odd number: 9\n"
     ]
    }
   ],
   "source": [
    "## Use continue to create a condition in which the loop will ignore\n",
    "for n in range(10):\n",
    "    if n % 2 == 0:\n",
    "        continue\n",
    "    print(f'Here is an odd number: {n}')"
   ]
  },
  {
   "cell_type": "code",
   "execution_count": 11,
   "id": "8067d40b-bcc0-4811-963a-43377cf49aed",
   "metadata": {},
   "outputs": [
    {
     "name": "stdout",
     "output_type": "stream",
     "text": [
      "age average: 29.00\n",
      "is_vegetarian is not numeric, skipping\n",
      "shoe size average: 8.86\n",
      "ISP is not numeric, skipping\n",
      "BMI average: 23.90\n"
     ]
    }
   ],
   "source": [
    "dataset = [{'name': 'age', 'type': 'int', 'data': [20, 25, 43, 11, 15, 53, 36]},\n",
    "           {'name': 'is_vegetarian', 'type': 'boolean', 'data': [False, True, False, False, True, False, False]},\n",
    "           {'name': 'shoe size', 'type': 'int', 'data': [8, 11, 7, 10, 7, 9, 10]},\n",
    "           {'name': 'ISP', 'type': 'categorical', 'data': ['AT&T', 'Spectrum', 'Spectrum', 'Spectrum', 'AT&T', 'Spectrum', 'AT&T']},\n",
    "           {'name': 'BMI', 'type': 'float', 'data': [29.9, 20.4, 23.3, 21.7, 22.2, 22.8, 27.0]}]\n",
    "\n",
    "# print the means for the numeric data\n",
    "for feature in dataset:\n",
    "    if feature['type'] == 'categorical' or feature['type'] == 'boolean':\n",
    "        print(f\"{feature['name']} is not numeric, skipping\")\n",
    "        continue\n",
    "    avg = sum(feature['data']) / len(feature['data'])\n",
    "    print(f\"{feature['name']} average: {avg:.2f}\") # the :.2f formats the decimal to 2 places."
   ]
  },
  {
   "cell_type": "markdown",
   "id": "d5c1f7b1-1e1c-451a-bf58-402b2439faee",
   "metadata": {},
   "source": [
    "# Exercises "
   ]
  },
  {
   "cell_type": "markdown",
   "id": "5a046aa5-b143-406c-8d4f-5d18aa5aa971",
   "metadata": {},
   "source": [
    "## 1. Conditional Basics"
   ]
  },
  {
   "cell_type": "markdown",
   "id": "dac1783e-45b5-4c6a-8d2e-6f568d490493",
   "metadata": {},
   "source": [
    "### A. prompt the user for a day of the week, print out whether the day is Monday or not"
   ]
  },
  {
   "cell_type": "code",
   "execution_count": 16,
   "id": "c6f6934b-0dcd-4e3a-aec8-a76c09427cd5",
   "metadata": {},
   "outputs": [
    {
     "name": "stdin",
     "output_type": "stream",
     "text": [
      "What day of the week is it?  Thursday\n"
     ]
    },
    {
     "name": "stdout",
     "output_type": "stream",
     "text": [
      "At least it is not Monday\n"
     ]
    }
   ],
   "source": [
    "is_monday = input('What day of the week is it? ')\n",
    "\n",
    "if is_monday == 'Monday':\n",
    "    print('Today is Monday')\n",
    "else:\n",
    "    print('At least it is not Monday')\n",
    "    \n"
   ]
  },
  {
   "cell_type": "markdown",
   "id": "be048c42-6d93-4e87-b86f-81269fe93c0a",
   "metadata": {},
   "source": [
    "### B. prompt the user for a day of the week, print out whether the day is a weekday or a weekend"
   ]
  },
  {
   "cell_type": "code",
   "execution_count": 18,
   "id": "5ad911e1-a793-4fcd-8019-1e4a9477d7df",
   "metadata": {},
   "outputs": [
    {
     "name": "stdin",
     "output_type": "stream",
     "text": [
      "What day of the week is it?  Thursday\n"
     ]
    },
    {
     "name": "stdout",
     "output_type": "stream",
     "text": [
      "I regret to inform you that it is not the weekend\n"
     ]
    }
   ],
   "source": [
    "is_weekend = input('What day of the week is it? ')\n",
    "\n",
    "if is_weekend == 'Saturday' or is_weekend == 'Sunday':\n",
    "    print('Hurray, it is the weekend') \n",
    "else:\n",
    "    print('I regret to inform you that it is not the weekend') "
   ]
  },
  {
   "cell_type": "markdown",
   "id": "4cb27d1f-19a2-4af1-966c-7bb875bc3924",
   "metadata": {},
   "source": [
    "### C. create variables and make up values for\n",
    "    - the number of hours worked in one week\n",
    "    - the hourly rate\n",
    "    - how much the week's paycheck will be\n",
    "    \n",
    "write the python code that calculates the weekly paycheck. You get paid time and a half if you work more than 40 hours"
   ]
  },
  {
   "cell_type": "code",
   "execution_count": 21,
   "id": "512171de-d1b8-463a-9199-cbad98829b49",
   "metadata": {},
   "outputs": [
    {
     "name": "stdin",
     "output_type": "stream",
     "text": [
      "How many hours did you work this week?  45\n",
      "What is your hourly rate?  10\n"
     ]
    },
    {
     "data": {
      "text/plain": [
       "475.0"
      ]
     },
     "execution_count": 21,
     "metadata": {},
     "output_type": "execute_result"
    }
   ],
   "source": [
    "hours_worked = int(input('How many hours did you work this week? '))\n",
    "\n",
    "hourly_rate = int(input('What is your hourly rate? '))\n",
    "\n",
    "if hours_worked <= 40:\n",
    "    weekly_paycheck = hours_worked * hourly_rate \n",
    "else:\n",
    "    weekly_paycheck = ((hours_worked - 40) * (hourly_rate * 1.5)) + (hourly_rate * 40)\n",
    "    \n",
    "weekly_paycheck"
   ]
  },
  {
   "cell_type": "markdown",
   "id": "77e1319e-c179-4eeb-854e-8e0ddc4e6fb0",
   "metadata": {},
   "source": [
    "## 2. Loop Basics"
   ]
  },
  {
   "cell_type": "markdown",
   "id": "52f7b8fb-a3f4-4dde-bf4c-8383d2bd27e4",
   "metadata": {},
   "source": [
    "### A. While\n",
    "\n",
    "- Create an integer variable i with a value of 5.\n",
    "\n",
    "- Create a while loop that runs so long as i is less than or equal to 15\n",
    "\n",
    "- Each loop iteration, output the current value of i, then increment i by one."
   ]
  },
  {
   "cell_type": "code",
   "execution_count": 24,
   "id": "7fc403db-5914-4c96-9517-9895ba0f9b0f",
   "metadata": {},
   "outputs": [
    {
     "name": "stdout",
     "output_type": "stream",
     "text": [
      "5\n",
      "6\n",
      "7\n",
      "8\n",
      "9\n",
      "10\n",
      "11\n",
      "12\n",
      "13\n",
      "14\n",
      "15\n"
     ]
    }
   ],
   "source": [
    "i = 5\n",
    "\n",
    "while i <= 15:\n",
    "    print(i)\n",
    "    i += 1"
   ]
  },
  {
   "cell_type": "markdown",
   "id": "b9244017-e44b-49c9-aecc-9475d83d01ec",
   "metadata": {},
   "source": [
    "- Create a while loop that will count by 2's starting with 0 and ending at 100. Follow each number with a new line."
   ]
  },
  {
   "cell_type": "code",
   "execution_count": 25,
   "id": "1c9f5ded-0405-47a9-a27f-836a8936b2be",
   "metadata": {},
   "outputs": [
    {
     "name": "stdout",
     "output_type": "stream",
     "text": [
      "0\n",
      "2\n",
      "4\n",
      "6\n",
      "8\n",
      "10\n",
      "12\n",
      "14\n",
      "16\n",
      "18\n",
      "20\n",
      "22\n",
      "24\n",
      "26\n",
      "28\n",
      "30\n",
      "32\n",
      "34\n",
      "36\n",
      "38\n",
      "40\n",
      "42\n",
      "44\n",
      "46\n",
      "48\n",
      "50\n",
      "52\n",
      "54\n",
      "56\n",
      "58\n",
      "60\n",
      "62\n",
      "64\n",
      "66\n",
      "68\n",
      "70\n",
      "72\n",
      "74\n",
      "76\n",
      "78\n",
      "80\n",
      "82\n",
      "84\n",
      "86\n",
      "88\n",
      "90\n",
      "92\n",
      "94\n",
      "96\n",
      "98\n",
      "100\n"
     ]
    }
   ],
   "source": [
    "i = 0\n",
    "\n",
    "while i <= 100:\n",
    "    print(i)\n",
    "    i += 2"
   ]
  },
  {
   "cell_type": "markdown",
   "id": "f6bfa5ac-2a23-4b07-9c37-da432ee00266",
   "metadata": {},
   "source": [
    "- Alter your loop to count backwards by 5's from 100 to -10."
   ]
  },
  {
   "cell_type": "code",
   "execution_count": 28,
   "id": "b865ed55-ccd2-47ae-bd3e-12c7a7c5170f",
   "metadata": {},
   "outputs": [
    {
     "name": "stdout",
     "output_type": "stream",
     "text": [
      "100\n",
      "95\n",
      "90\n",
      "85\n",
      "80\n",
      "75\n",
      "70\n",
      "65\n",
      "60\n",
      "55\n",
      "50\n",
      "45\n",
      "40\n",
      "35\n",
      "30\n",
      "25\n",
      "20\n",
      "15\n",
      "10\n",
      "5\n",
      "0\n",
      "-5\n",
      "-10\n"
     ]
    }
   ],
   "source": [
    "i = 100\n",
    "\n",
    "while i >= -10:\n",
    "    print(i)\n",
    "    i -= 5"
   ]
  },
  {
   "cell_type": "markdown",
   "id": "1f47d716-0def-4291-8a27-6aaeac34132b",
   "metadata": {},
   "source": [
    "- Create a while loop that starts at 2, and displays the number squared on each line while the number is less than 1,000,000."
   ]
  },
  {
   "cell_type": "code",
   "execution_count": 29,
   "id": "efc001ab-c165-4e49-927a-547c361929f9",
   "metadata": {},
   "outputs": [
    {
     "name": "stdout",
     "output_type": "stream",
     "text": [
      "2\n",
      "4\n",
      "16\n",
      "256\n",
      "65536\n"
     ]
    }
   ],
   "source": [
    "i = 2\n",
    "\n",
    "while i <= 1_000_000:\n",
    "    print(i)\n",
    "    i = i * i"
   ]
  },
  {
   "cell_type": "markdown",
   "id": "2646ea5c-1c7b-43e7-88d8-d6c38e9dcf3f",
   "metadata": {},
   "source": [
    "- Write a loop that uses print to create the output shown below."
   ]
  },
  {
   "cell_type": "code",
   "execution_count": 32,
   "id": "092753ea-cba6-4eeb-a578-b7a5d58a5242",
   "metadata": {},
   "outputs": [
    {
     "data": {
      "text/plain": [
       "' \\n100\\n95\\n90\\n85\\n80\\n75\\n70\\n65\\n60\\n55\\n50\\n45\\n40\\n35\\n30\\n25\\n20\\n15\\n10\\n5\\n'"
      ]
     },
     "execution_count": 32,
     "metadata": {},
     "output_type": "execute_result"
    }
   ],
   "source": [
    "''' \n",
    "100\n",
    "95\n",
    "90\n",
    "85\n",
    "80\n",
    "75\n",
    "70\n",
    "65\n",
    "60\n",
    "55\n",
    "50\n",
    "45\n",
    "40\n",
    "35\n",
    "30\n",
    "25\n",
    "20\n",
    "15\n",
    "10\n",
    "5\n",
    "''' "
   ]
  },
  {
   "cell_type": "code",
   "execution_count": 34,
   "id": "6962997f-9d13-4e23-b8ab-34e4af28f7fb",
   "metadata": {},
   "outputs": [
    {
     "name": "stdout",
     "output_type": "stream",
     "text": [
      "100\n",
      "95\n",
      "90\n",
      "85\n",
      "80\n",
      "75\n",
      "70\n",
      "65\n",
      "60\n",
      "55\n",
      "50\n",
      "45\n",
      "40\n",
      "35\n",
      "30\n",
      "25\n",
      "20\n",
      "15\n",
      "10\n",
      "5\n"
     ]
    }
   ],
   "source": [
    "i = 100\n",
    "\n",
    "while i >= 5:\n",
    "    print(i)\n",
    "    i -= 5"
   ]
  },
  {
   "cell_type": "markdown",
   "id": "87781594-047f-490a-a53b-db9bdde5c6c7",
   "metadata": {},
   "source": [
    "### B. For Loops"
   ]
  },
  {
   "cell_type": "markdown",
   "id": "b0bb3671-343e-4945-a434-31a57b473ea9",
   "metadata": {},
   "source": [
    "- Write some code that prompts the user for a number, then shows a multiplication table up through 10 for that number."
   ]
  },
  {
   "cell_type": "code",
   "execution_count": 36,
   "id": "f4d46e43-7849-4c35-9b69-6a38c2932ff0",
   "metadata": {},
   "outputs": [
    {
     "name": "stdin",
     "output_type": "stream",
     "text": [
      "Please enter a number 8\n"
     ]
    },
    {
     "name": "stdout",
     "output_type": "stream",
     "text": [
      "8  *  1  =  8\n",
      "8  *  2  =  16\n",
      "8  *  3  =  24\n",
      "8  *  4  =  32\n",
      "8  *  5  =  40\n",
      "8  *  6  =  48\n",
      "8  *  7  =  56\n",
      "8  *  8  =  64\n",
      "8  *  9  =  72\n",
      "8  *  10  =  80\n"
     ]
    }
   ],
   "source": [
    "user_number = int(input('Please enter a number'))\n",
    "\n",
    "for number in range(1, 11):\n",
    "    print(user_number, ' * ', number, ' = ', (user_number * number))"
   ]
  },
  {
   "cell_type": "markdown",
   "id": "fe98ad12-897b-4f16-b254-f278f68b89d2",
   "metadata": {},
   "source": [
    "- Create a for loop that uses print to create the output shown below:"
   ]
  },
  {
   "cell_type": "code",
   "execution_count": 37,
   "id": "5f06f3e6-b08a-4d4a-b997-8986439e2d07",
   "metadata": {},
   "outputs": [
    {
     "data": {
      "text/plain": [
       "'\\n1\\n22\\n333\\n4444\\n55555\\n666666\\n7777777\\n88888888\\n999999999\\n'"
      ]
     },
     "execution_count": 37,
     "metadata": {},
     "output_type": "execute_result"
    }
   ],
   "source": [
    "'''\n",
    "1\n",
    "22\n",
    "333\n",
    "4444\n",
    "55555\n",
    "666666\n",
    "7777777\n",
    "88888888\n",
    "999999999\n",
    "'''"
   ]
  },
  {
   "cell_type": "code",
   "execution_count": 41,
   "id": "39e2b417-968b-4894-b9b2-d48bba280610",
   "metadata": {},
   "outputs": [
    {
     "name": "stdin",
     "output_type": "stream",
     "text": [
      "Please enter a number 5\n"
     ]
    },
    {
     "name": "stdout",
     "output_type": "stream",
     "text": [
      "1\n",
      "22\n",
      "333\n",
      "4444\n",
      "55555\n"
     ]
    }
   ],
   "source": [
    "user_number = input('Please enter a number')\n",
    "\n",
    "user_number_value = int(user_number)\n",
    "\n",
    "for number in range(1, (user_number_value + 1)):\n",
    "    print(str(number) * number)"
   ]
  },
  {
   "cell_type": "markdown",
   "id": "30a3054d-1de8-461d-9db8-8a206ed6f44a",
   "metadata": {},
   "source": [
    "### C. Break and continue"
   ]
  },
  {
   "cell_type": "markdown",
   "id": "c807c10b-1da1-426e-aae8-e2b93e1eea87",
   "metadata": {},
   "source": [
    "- Write a program that prompts the user for a positive integer. Next write a loop that prints out the numbers from the number the user entered down to 1."
   ]
  },
  {
   "cell_type": "code",
   "execution_count": 45,
   "id": "37952d3c-29dd-471b-9e1c-3c23b271f6bf",
   "metadata": {},
   "outputs": [
    {
     "name": "stdin",
     "output_type": "stream",
     "text": [
      "Please enter a positive integer 7\n"
     ]
    },
    {
     "name": "stdout",
     "output_type": "stream",
     "text": [
      "7\n",
      "6\n",
      "5\n",
      "4\n",
      "3\n",
      "2\n",
      "1\n"
     ]
    }
   ],
   "source": [
    "user_number = int(input('Please enter a positive integer'))\n",
    "\n",
    "while user_number > 0:\n",
    "    print(user_number)\n",
    "    user_number -= 1"
   ]
  },
  {
   "cell_type": "markdown",
   "id": "4723fe5e-9778-4201-8545-5264db786ab0",
   "metadata": {},
   "source": [
    "- The input function can be used to prompt for input and use that input in your python code. Prompt the user to enter a positive number and write a loop that counts from 0 to that number. (Hints: first make sure that the value the user entered is a valid number, also note that the input function returns a string, so you'll need to convert this to a numeric type.)"
   ]
  },
  {
   "cell_type": "code",
   "execution_count": 47,
   "id": "0c659694-ab36-43e9-867a-86cf8a0ac9f0",
   "metadata": {},
   "outputs": [
    {
     "name": "stdin",
     "output_type": "stream",
     "text": [
      "Please enter a positive integer 7\n"
     ]
    },
    {
     "name": "stdout",
     "output_type": "stream",
     "text": [
      "0\n",
      "1\n",
      "2\n",
      "3\n",
      "4\n",
      "5\n",
      "6\n",
      "7\n"
     ]
    }
   ],
   "source": [
    "user_number = int(input('Please enter a positive integer'))\n",
    "\n",
    "i = 0\n",
    "while i <= user_number:\n",
    "    print(i)\n",
    "    i += 1"
   ]
  },
  {
   "cell_type": "markdown",
   "id": "181c834a-0647-4598-8b30-254581139391",
   "metadata": {},
   "source": [
    "- Prompt the user for an odd number between 1 and 50. Use a loop and a break statement to continue prompting the user if they enter invalid input. (Hint: use the isdigit method on strings to determine this). Use a loop and the continue statement to output all the odd numbers between 1 and 50, except for the number the user entered."
   ]
  },
  {
   "cell_type": "code",
   "execution_count": 52,
   "id": "1a0f89b5-5bb1-412b-9e0e-17432ae1b1c7",
   "metadata": {},
   "outputs": [
    {
     "name": "stdin",
     "output_type": "stream",
     "text": [
      "Please enter an odd number between 1 and 50 9\n"
     ]
    },
    {
     "name": "stdout",
     "output_type": "stream",
     "text": [
      "Number to skip is:  9\n",
      "1\n",
      "3\n",
      "5\n",
      "7\n",
      "Oops, skipping number\n",
      "11\n",
      "13\n",
      "15\n",
      "17\n",
      "19\n",
      "21\n",
      "23\n",
      "25\n",
      "27\n",
      "29\n",
      "31\n",
      "33\n",
      "35\n",
      "37\n",
      "39\n",
      "41\n",
      "43\n",
      "45\n",
      "47\n",
      "49\n"
     ]
    }
   ],
   "source": [
    "user_number = int(input('Please enter an odd number between 1 and 50'))\n",
    "\n",
    "print('Number to skip is: ', user_number)\n",
    "\n",
    "for number in range(0, 51):\n",
    "    if number % 2 == 0:\n",
    "        continue\n",
    "    elif number == user_number:\n",
    "        print('Oops, skipping number')\n",
    "        continue\n",
    "    print(number)"
   ]
  },
  {
   "cell_type": "markdown",
   "id": "34204045-0031-4671-9abb-2d7009a076b9",
   "metadata": {},
   "source": [
    "## 3. Fizzbuzz\n",
    "\n",
    "One of the most common interview questions for entry-level programmers is the FizzBuzz test. Developed by Imran Ghory, the test is designed to test basic looping and conditional logic skills.\n",
    "\n",
    "- Write a program that prints the numbers from 1 to 100.\n",
    "\n",
    "- For multiples of three print \"Fizz\" instead of the number\n",
    "\n",
    "- For the multiples of five print \"Buzz\".\n",
    "\n",
    "- For numbers which are multiples of both three and five print \"FizzBuzz\"."
   ]
  },
  {
   "cell_type": "code",
   "execution_count": 56,
   "id": "fe206780-d499-4860-b10c-abcb84eb0a3c",
   "metadata": {},
   "outputs": [
    {
     "name": "stdout",
     "output_type": "stream",
     "text": [
      "1\n",
      "2\n",
      "Fizz\n",
      "4\n",
      "Buzz\n",
      "Fizz\n",
      "7\n",
      "8\n",
      "Fizz\n",
      "Buzz\n",
      "11\n",
      "Fizz\n",
      "13\n",
      "14\n",
      "FizzBuzz\n",
      "16\n",
      "17\n",
      "Fizz\n",
      "19\n",
      "Buzz\n",
      "Fizz\n",
      "22\n",
      "23\n",
      "Fizz\n",
      "Buzz\n",
      "26\n",
      "Fizz\n",
      "28\n",
      "29\n",
      "FizzBuzz\n",
      "31\n",
      "32\n",
      "Fizz\n",
      "34\n",
      "Buzz\n",
      "Fizz\n",
      "37\n",
      "38\n",
      "Fizz\n",
      "Buzz\n",
      "41\n",
      "Fizz\n",
      "43\n",
      "44\n",
      "FizzBuzz\n",
      "46\n",
      "47\n",
      "Fizz\n",
      "49\n",
      "Buzz\n",
      "Fizz\n",
      "52\n",
      "53\n",
      "Fizz\n",
      "Buzz\n",
      "56\n",
      "Fizz\n",
      "58\n",
      "59\n",
      "FizzBuzz\n",
      "61\n",
      "62\n",
      "Fizz\n",
      "64\n",
      "Buzz\n",
      "Fizz\n",
      "67\n",
      "68\n",
      "Fizz\n",
      "Buzz\n",
      "71\n",
      "Fizz\n",
      "73\n",
      "74\n",
      "FizzBuzz\n",
      "76\n",
      "77\n",
      "Fizz\n",
      "79\n",
      "Buzz\n",
      "Fizz\n",
      "82\n",
      "83\n",
      "Fizz\n",
      "Buzz\n",
      "86\n",
      "Fizz\n",
      "88\n",
      "89\n",
      "FizzBuzz\n",
      "91\n",
      "92\n",
      "Fizz\n",
      "94\n",
      "Buzz\n",
      "Fizz\n",
      "97\n",
      "98\n",
      "Fizz\n",
      "Buzz\n"
     ]
    }
   ],
   "source": [
    "for number in range(1, 101):\n",
    "    if number % 3 == 0 and number % 5 == 0:\n",
    "        print('FizzBuzz')\n",
    "    elif number % 3 == 0:\n",
    "        print('Fizz')\n",
    "    elif number % 5 == 0:\n",
    "        print('Buzz')\n",
    "    else:\n",
    "        print(number) "
   ]
  },
  {
   "cell_type": "markdown",
   "id": "f23273b5-11d2-4ef6-b48c-38167dac0aee",
   "metadata": {},
   "source": [
    "## 4. Display a table of powers.\n",
    "\n",
    "- Prompt the user to enter an integer.\n",
    "\n",
    "- Display a table of squares and cubes from 1 to the value entered.\n",
    "\n",
    "- Ask if the user wants to continue.\n",
    "\n",
    "- Assume that the user will enter valid data.\n",
    "\n",
    "- Only continue if the user agrees to."
   ]
  },
  {
   "cell_type": "code",
   "execution_count": 76,
   "id": "a9a90513-eb17-4a62-87d4-4d410a648690",
   "metadata": {},
   "outputs": [
    {
     "name": "stdin",
     "output_type": "stream",
     "text": [
      "Do you wish to proceed?  y\n",
      "Please enter a number 7\n"
     ]
    },
    {
     "name": "stdout",
     "output_type": "stream",
     "text": [
      "Number\tSquare\tCube\n",
      "0 \t 0 \t 0\n",
      "1 \t 1 \t 1\n",
      "2 \t 4 \t 8\n",
      "3 \t 9 \t 27\n",
      "4 \t 16 \t 64\n",
      "5 \t 25 \t 125\n",
      "6 \t 36 \t 216\n",
      "7 \t 49 \t 343\n"
     ]
    },
    {
     "name": "stdin",
     "output_type": "stream",
     "text": [
      "Do you wish to proceed?  y\n",
      "Please enter a number 6\n"
     ]
    },
    {
     "name": "stdout",
     "output_type": "stream",
     "text": [
      "Number\tSquare\tCube\n",
      "0 \t 0 \t 0\n",
      "1 \t 1 \t 1\n",
      "2 \t 4 \t 8\n",
      "3 \t 9 \t 27\n",
      "4 \t 16 \t 64\n",
      "5 \t 25 \t 125\n",
      "6 \t 36 \t 216\n"
     ]
    },
    {
     "name": "stdin",
     "output_type": "stream",
     "text": [
      "Do you wish to proceed?  n\n"
     ]
    },
    {
     "name": "stdout",
     "output_type": "stream",
     "text": [
      "Have a nice day!\n"
     ]
    }
   ],
   "source": [
    "user_consent = input('Do you wish to proceed? ')\n",
    "\n",
    "\n",
    "while user_consent == 'y':\n",
    "    user_number = int(input('Please enter a number'))\n",
    "    print('Number\\tSquare\\tCube')\n",
    "    for i in range(0,(user_number + 1)):  \n",
    "        print(i,'\\t',i*i,'\\t',i*i*i)\n",
    "    user_consent = input('Do you wish to proceed? ')\n",
    "else: print('Have a nice day!')"
   ]
  },
  {
   "cell_type": "markdown",
   "id": "180f3fcb-f648-4272-ba74-f6608f7af5bc",
   "metadata": {},
   "source": [
    "## 5. Convert given number grades into letter grades.\n",
    "\n",
    "- Prompt the user for a numerical grade from 0 to 100\n",
    "\n",
    "- Display the corresponding letter grade\n",
    "\n",
    "- Prompt the user to continue\n",
    "\n",
    "- Assume that the user will enter valid integers for the grades\n",
    "\n",
    "- The application should only continue if the user agrees to\n",
    "\n",
    "- Grade Ranges:\n",
    "\n",
    "    - A : 100 - 88\n",
    "    - B : 87 - 80\n",
    "    - C : 79 - 67\n",
    "    - D : 66 - 60\n",
    "    - F : 59 - 0"
   ]
  },
  {
   "cell_type": "code",
   "execution_count": 77,
   "id": "15c5e922-903e-4fcf-9e3c-e7ad3f0be5e1",
   "metadata": {},
   "outputs": [
    {
     "name": "stdin",
     "output_type": "stream",
     "text": [
      "Do you wish to proceed?  y\n",
      "Please enter your grade:  67\n"
     ]
    },
    {
     "name": "stdout",
     "output_type": "stream",
     "text": [
      "D\n"
     ]
    },
    {
     "name": "stdin",
     "output_type": "stream",
     "text": [
      "Do you wish to proceed?  y\n",
      "Please enter your grade:  98\n"
     ]
    },
    {
     "name": "stdout",
     "output_type": "stream",
     "text": [
      "A\n"
     ]
    },
    {
     "name": "stdin",
     "output_type": "stream",
     "text": [
      "Do you wish to proceed?  n\n"
     ]
    },
    {
     "name": "stdout",
     "output_type": "stream",
     "text": [
      "Have a nice day!\n"
     ]
    }
   ],
   "source": [
    "user_consent = input('Do you wish to proceed? ')\n",
    "\n",
    "\n",
    "while user_consent == 'y':\n",
    "    grade = int(input('Please enter your grade: '))\n",
    "            \n",
    "    if grade > 88:\n",
    "        print('A')\n",
    "    elif grade > 80:\n",
    "        print('B')\n",
    "    elif grade > 67:\n",
    "        print('C')\n",
    "    elif grade > 60:\n",
    "        print('D')\n",
    "    else:\n",
    "        print('F')\n",
    "    user_consent = input('Do you wish to proceed? ')\n",
    "else: print('Have a nice day!')"
   ]
  },
  {
   "cell_type": "markdown",
   "id": "57520763-d205-4ee2-a921-a28908edab43",
   "metadata": {},
   "source": [
    "## 6. Create a list of dictionaries where each dictionary represents a book that you have read. Each dictionary in the list should have the keys title, author, and genre. Loop through the list and print out information about each book.\n",
    "\n"
   ]
  },
  {
   "cell_type": "code",
   "execution_count": 78,
   "id": "3694be0e-b9af-4c72-b6b2-279351741b2b",
   "metadata": {},
   "outputs": [],
   "source": [
    "books = [\n",
    "    {\n",
    "        'title':'title1',\n",
    "        'author': 'author1',\n",
    "        'genre': 'genre1'\n",
    "    },\n",
    "    {\n",
    "        'title':'title2',\n",
    "        'author': 'author1',\n",
    "        'genre': 'genre2'\n",
    "    },\n",
    "    {\n",
    "        'title':'title3',\n",
    "        'author': 'author2',\n",
    "        'genre': 'genre2'\n",
    "    },\n",
    "    {\n",
    "        'title':'title4',\n",
    "        'author': 'author3',\n",
    "        'genre': 'genre2'\n",
    "    }\n",
    "]"
   ]
  },
  {
   "cell_type": "markdown",
   "id": "c9c63507-b914-4007-b2cf-453e8d077aa6",
   "metadata": {},
   "source": [
    "- Prompt the user to enter a genre, then loop through your books list and print out the titles of all the books in that genre."
   ]
  },
  {
   "cell_type": "code",
   "execution_count": 80,
   "id": "16fc721c-2665-46d6-b401-9f6ebf3adf17",
   "metadata": {},
   "outputs": [
    {
     "name": "stdin",
     "output_type": "stream",
     "text": [
      "What genre of books are you looking for?  genre1\n"
     ]
    },
    {
     "name": "stdout",
     "output_type": "stream",
     "text": [
      "{'title': 'title1', 'author': 'author1', 'genre': 'genre1'}\n"
     ]
    }
   ],
   "source": [
    "user_genre = input('What genre of books are you looking for? ')\n",
    "\n",
    "for book in books: \n",
    "    if book['genre'] == user_genre:\n",
    "        print(book)\n",
    "    else:\n",
    "        continue"
   ]
  },
  {
   "cell_type": "code",
   "execution_count": null,
   "id": "1babc999-4ba9-4e37-b3be-b8c1d74a6cee",
   "metadata": {},
   "outputs": [],
   "source": []
  }
 ],
 "metadata": {
  "kernelspec": {
   "display_name": "Python 3 (ipykernel)",
   "language": "python",
   "name": "python3"
  },
  "language_info": {
   "codemirror_mode": {
    "name": "ipython",
    "version": 3
   },
   "file_extension": ".py",
   "mimetype": "text/x-python",
   "name": "python",
   "nbconvert_exporter": "python",
   "pygments_lexer": "ipython3",
   "version": "3.9.7"
  }
 },
 "nbformat": 4,
 "nbformat_minor": 5
}
