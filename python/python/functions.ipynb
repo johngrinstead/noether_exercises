{
 "cells": [
  {
   "cell_type": "markdown",
   "id": "d00c9ec3-6cf6-4988-bb5d-42eb0e60b8bd",
   "metadata": {},
   "source": [
    "# Using Functions "
   ]
  },
  {
   "cell_type": "code",
   "execution_count": 1,
   "id": "b8433bd5-3ca2-4418-8061-209199de803c",
   "metadata": {},
   "outputs": [
    {
     "data": {
      "text/plain": [
       "<function max>"
      ]
     },
     "execution_count": 1,
     "metadata": {},
     "output_type": "execute_result"
    }
   ],
   "source": [
    "# a reference to the max function\n",
    "max"
   ]
  },
  {
   "cell_type": "code",
   "execution_count": 2,
   "id": "00e50b4f-291c-4528-be03-75ff5b2a394a",
   "metadata": {},
   "outputs": [
    {
     "data": {
      "text/plain": [
       "4"
      ]
     },
     "execution_count": 2,
     "metadata": {},
     "output_type": "execute_result"
    }
   ],
   "source": [
    "# calling the max function with 1 argument, a list of numbers\n",
    "max([4, 2, 3, 1])"
   ]
  },
  {
   "cell_type": "code",
   "execution_count": 3,
   "id": "e2df83b2-deae-4155-9f4e-d21fbc0c73df",
   "metadata": {},
   "outputs": [
    {
     "name": "stdout",
     "output_type": "stream",
     "text": [
      "4\n"
     ]
    }
   ],
   "source": [
    "# The output of functions can be assigned to a variable \n",
    "maximum_number = max([4, 2, 3, 1])\n",
    "print(maximum_number)"
   ]
  },
  {
   "cell_type": "code",
   "execution_count": 4,
   "id": "e8c8ee29-a571-4aa0-ad3e-97364e81d722",
   "metadata": {},
   "outputs": [
    {
     "name": "stdout",
     "output_type": "stream",
     "text": [
      "The max is: 4\n"
     ]
    }
   ],
   "source": [
    "print('The max is: ' + str(max([4, 2, 3, 1])))"
   ]
  },
  {
   "cell_type": "markdown",
   "id": "95904a6f-8d76-4b1f-bf0d-f69b38eae4f7",
   "metadata": {},
   "source": [
    "# Defining Functions "
   ]
  },
  {
   "cell_type": "code",
   "execution_count": 5,
   "id": "976dc3ef-1695-42d4-831b-b5c344643bf7",
   "metadata": {},
   "outputs": [],
   "source": [
    "# Use def to write a custom function\n",
    "def increment(n):\n",
    "    # Write the programatic task you wish the function to perform\n",
    "    return n + 1"
   ]
  },
  {
   "cell_type": "code",
   "execution_count": 6,
   "id": "f92f722e-a101-47a3-bcde-e656f1ded3ad",
   "metadata": {},
   "outputs": [
    {
     "data": {
      "text/plain": [
       "4"
      ]
     },
     "execution_count": 6,
     "metadata": {},
     "output_type": "execute_result"
    }
   ],
   "source": [
    "# Call the function to execute it\n",
    "increment(3)"
   ]
  },
  {
   "cell_type": "code",
   "execution_count": 7,
   "id": "ad173597-bae2-4641-883f-7456bbe4e2c9",
   "metadata": {},
   "outputs": [
    {
     "name": "stdout",
     "output_type": "stream",
     "text": [
      "6\n"
     ]
    }
   ],
   "source": [
    "six = increment(increment(increment(3)))\n",
    "\n",
    "print(six)"
   ]
  },
  {
   "cell_type": "code",
   "execution_count": 8,
   "id": "80e8b301-9865-42a9-8f19-f2046af516df",
   "metadata": {},
   "outputs": [],
   "source": [
    "six = increment(increment(increment(3)))\n",
    "six = increment(increment(4))\n",
    "six = increment(5)\n",
    "six = 6"
   ]
  },
  {
   "cell_type": "code",
   "execution_count": 9,
   "id": "35b4d057-36c2-4287-8caf-7d9535759b62",
   "metadata": {},
   "outputs": [
    {
     "data": {
      "text/plain": [
       "4"
      ]
     },
     "execution_count": 9,
     "metadata": {},
     "output_type": "execute_result"
    }
   ],
   "source": [
    "def increment(n):\n",
    "    return n + 1\n",
    "    print('You will never see this')\n",
    "    return n + 1\n",
    "\n",
    "increment(3)"
   ]
  },
  {
   "cell_type": "markdown",
   "id": "3d20b045-8293-4d16-b465-a3cadd3115f3",
   "metadata": {},
   "source": [
    "# Arguments / Parameters"
   ]
  },
  {
   "cell_type": "code",
   "execution_count": 11,
   "id": "3b8d488c-a228-4c16-a80f-1f8f512486a6",
   "metadata": {},
   "outputs": [
    {
     "data": {
      "text/plain": [
       "7"
      ]
     },
     "execution_count": 11,
     "metadata": {},
     "output_type": "execute_result"
    }
   ],
   "source": [
    "# A function can accept multiple arguments \n",
    "def add(a, b):\n",
    "    result = a + b\n",
    "    return result\n",
    "\n",
    "x = 3\n",
    "seven = add(x, 4)\n",
    "\n",
    "seven"
   ]
  },
  {
   "cell_type": "code",
   "execution_count": 12,
   "id": "f8963054-4786-487f-a309-59c2952940a1",
   "metadata": {},
   "outputs": [
    {
     "name": "stdout",
     "output_type": "stream",
     "text": [
      "HEY THERE!!!\n",
      "None\n"
     ]
    }
   ],
   "source": [
    "def shout(message):\n",
    "    print(message.upper() + '!!!')\n",
    "\n",
    "return_value = shout('hey there')\n",
    "print(return_value)"
   ]
  },
  {
   "cell_type": "code",
   "execution_count": 13,
   "id": "2730a2bd-e6fe-4703-b8b5-e6bc621cd8f6",
   "metadata": {},
   "outputs": [
    {
     "name": "stdout",
     "output_type": "stream",
     "text": [
      "Hey there!\n"
     ]
    }
   ],
   "source": [
    "# A function also does not need an argument if you wish for it to behave independently \n",
    "def sayhello():\n",
    "    print('Hey there!')\n",
    "\n",
    "sayhello()"
   ]
  },
  {
   "cell_type": "code",
   "execution_count": 14,
   "id": "414aff4b-99d8-4657-9a74-fcdcf927f88c",
   "metadata": {},
   "outputs": [
    {
     "ename": "TypeError",
     "evalue": "sayhello() takes 0 positional arguments but 1 was given",
     "output_type": "error",
     "traceback": [
      "\u001b[0;31m---------------------------------------------------------------------------\u001b[0m",
      "\u001b[0;31mTypeError\u001b[0m                                 Traceback (most recent call last)",
      "\u001b[0;32m/var/folders/89/ngx4rpvd1jvgk40d1xzdjzsc0000gp/T/ipykernel_18648/4204032138.py\u001b[0m in \u001b[0;36m<module>\u001b[0;34m\u001b[0m\n\u001b[0;32m----> 1\u001b[0;31m \u001b[0msayhello\u001b[0m\u001b[0;34m(\u001b[0m\u001b[0;36m123\u001b[0m\u001b[0;34m)\u001b[0m\u001b[0;34m\u001b[0m\u001b[0;34m\u001b[0m\u001b[0m\n\u001b[0m",
      "\u001b[0;31mTypeError\u001b[0m: sayhello() takes 0 positional arguments but 1 was given"
     ]
    }
   ],
   "source": [
    "# A function MUST have the same amount of arguments as assigned when you call it \n",
    "sayhello(123)"
   ]
  },
  {
   "cell_type": "markdown",
   "id": "18c5430c-559c-4a57-bae9-afedce4ab108",
   "metadata": {},
   "source": [
    "## Default Values "
   ]
  },
  {
   "cell_type": "code",
   "execution_count": 16,
   "id": "a978cb5c-2d6f-4e9b-8181-5997a1bc6a1e",
   "metadata": {},
   "outputs": [
    {
     "data": {
      "text/plain": [
       "'Hello, World!'"
      ]
     },
     "execution_count": 16,
     "metadata": {},
     "output_type": "execute_result"
    }
   ],
   "source": [
    "# If you wish you can assign default values to the function\n",
    "def sayhello(name='World', greeting='Hello'):\n",
    "    return '{}, {}!'.format(greeting, name)\n",
    "\n",
    "sayhello()"
   ]
  },
  {
   "cell_type": "code",
   "execution_count": 17,
   "id": "105fa8a3-8bce-46c4-9f45-70e1904f0dfb",
   "metadata": {},
   "outputs": [
    {
     "data": {
      "text/plain": [
       "'Hello, Codeup!'"
      ]
     },
     "execution_count": 17,
     "metadata": {},
     "output_type": "execute_result"
    }
   ],
   "source": [
    "# Even with default values, they can be adjusted if you wish\n",
    "sayhello('Codeup')"
   ]
  },
  {
   "cell_type": "code",
   "execution_count": 18,
   "id": "53f395cc-310b-4be1-9363-588ee058bbb9",
   "metadata": {},
   "outputs": [
    {
     "data": {
      "text/plain": [
       "'Salutations, Codeup!'"
      ]
     },
     "execution_count": 18,
     "metadata": {},
     "output_type": "execute_result"
    }
   ],
   "source": [
    "sayhello('Codeup', 'Salutations')"
   ]
  },
  {
   "cell_type": "markdown",
   "id": "757f78bf-a879-4dd6-8c30-c9f1cedfa779",
   "metadata": {},
   "source": [
    "## Keyword Arguments "
   ]
  },
  {
   "cell_type": "code",
   "execution_count": 19,
   "id": "abe3e457-0f98-49bc-b24e-825e8e4b32de",
   "metadata": {},
   "outputs": [
    {
     "data": {
      "text/plain": [
       "'Salutations, Codeup!'"
      ]
     },
     "execution_count": 19,
     "metadata": {},
     "output_type": "execute_result"
    }
   ],
   "source": [
    "# You can enter your arguments out of order so long as you specify what they are \n",
    "sayhello(greeting='Salutations', name='Codeup')"
   ]
  },
  {
   "cell_type": "code",
   "execution_count": 20,
   "id": "03573f99-2449-4b72-adbf-02a396707646",
   "metadata": {},
   "outputs": [
    {
     "data": {
      "text/plain": [
       "'Salutations, Codeup!'"
      ]
     },
     "execution_count": 20,
     "metadata": {},
     "output_type": "execute_result"
    }
   ],
   "source": [
    "sayhello('Codeup', greeting='Salutations') # Okay"
   ]
  },
  {
   "cell_type": "code",
   "execution_count": 21,
   "id": "420cb329-75ca-4051-b5ca-02e6aec31b98",
   "metadata": {},
   "outputs": [
    {
     "ename": "SyntaxError",
     "evalue": "positional argument follows keyword argument (1750871554.py, line 1)",
     "output_type": "error",
     "traceback": [
      "\u001b[0;36m  File \u001b[0;32m\"/var/folders/89/ngx4rpvd1jvgk40d1xzdjzsc0000gp/T/ipykernel_18648/1750871554.py\"\u001b[0;36m, line \u001b[0;32m1\u001b[0m\n\u001b[0;31m    sayhello(greeting='Salutations', 'Codeup') # ERROR!\u001b[0m\n\u001b[0m                                             ^\u001b[0m\n\u001b[0;31mSyntaxError\u001b[0m\u001b[0;31m:\u001b[0m positional argument follows keyword argument\n"
     ]
    }
   ],
   "source": [
    "sayhello(greeting='Salutations', 'Codeup') # ERROR!"
   ]
  },
  {
   "cell_type": "markdown",
   "id": "759d3965-2293-465a-92cb-cb54756c3cc4",
   "metadata": {},
   "source": [
    "## Calling Functions "
   ]
  },
  {
   "cell_type": "code",
   "execution_count": 22,
   "id": "ae1804cb-29f9-4e6a-bb61-f9e5927f609f",
   "metadata": {},
   "outputs": [
    {
     "data": {
      "text/plain": [
       "'Salutations, Codeup!'"
      ]
     },
     "execution_count": 22,
     "metadata": {},
     "output_type": "execute_result"
    }
   ],
   "source": [
    "# Functions can be given a list of arguments \n",
    "args = ['Codeup', 'Salutations']\n",
    "\n",
    "sayhello(*args)"
   ]
  },
  {
   "cell_type": "code",
   "execution_count": 23,
   "id": "9ae34e70-64ed-4531-9001-602a57e73c10",
   "metadata": {},
   "outputs": [
    {
     "data": {
      "text/plain": [
       "'Salutations, Codeup!'"
      ]
     },
     "execution_count": 23,
     "metadata": {},
     "output_type": "execute_result"
    }
   ],
   "source": [
    "kwargs = {'greeting': 'Salutations', 'name': 'Codeup'}\n",
    "\n",
    "sayhello(**kwargs)"
   ]
  },
  {
   "cell_type": "markdown",
   "id": "8941cfcf-d8ff-43ce-b065-728f5fdbc954",
   "metadata": {},
   "source": [
    "# Function Scope"
   ]
  },
  {
   "cell_type": "code",
   "execution_count": 24,
   "id": "8127da4f-8c7b-43ed-8a42-12f84a4fbcb2",
   "metadata": {},
   "outputs": [
    {
     "name": "stdout",
     "output_type": "stream",
     "text": [
      "Inside the function: 42\n",
      "Outside the function: 42\n"
     ]
    }
   ],
   "source": [
    "# A variable established out of a functon can be accessed by all functions \n",
    "a_global_variable = 42\n",
    "\n",
    "def somefunction():\n",
    "    print('Inside the function: %s' % a_global_variable)\n",
    "\n",
    "somefunction()\n",
    "print('Outside the function: %s' % a_global_variable)"
   ]
  },
  {
   "cell_type": "code",
   "execution_count": 25,
   "id": "edfd8bf3-5431-4a65-b0ae-a44a154d79ca",
   "metadata": {},
   "outputs": [
    {
     "name": "stdout",
     "output_type": "stream",
     "text": [
      "Inside the function: pizza\n"
     ]
    },
    {
     "ename": "NameError",
     "evalue": "name 'a_local_variable' is not defined",
     "output_type": "error",
     "traceback": [
      "\u001b[0;31m---------------------------------------------------------------------------\u001b[0m",
      "\u001b[0;31mNameError\u001b[0m                                 Traceback (most recent call last)",
      "\u001b[0;32m/var/folders/89/ngx4rpvd1jvgk40d1xzdjzsc0000gp/T/ipykernel_18648/3839841458.py\u001b[0m in \u001b[0;36m<module>\u001b[0;34m\u001b[0m\n\u001b[1;32m      5\u001b[0m \u001b[0;34m\u001b[0m\u001b[0m\n\u001b[1;32m      6\u001b[0m \u001b[0msomefunction\u001b[0m\u001b[0;34m(\u001b[0m\u001b[0;34m)\u001b[0m\u001b[0;34m\u001b[0m\u001b[0;34m\u001b[0m\u001b[0m\n\u001b[0;32m----> 7\u001b[0;31m \u001b[0mprint\u001b[0m\u001b[0;34m(\u001b[0m\u001b[0;34m'Outside the function: %s'\u001b[0m \u001b[0;34m%\u001b[0m \u001b[0ma_local_variable\u001b[0m\u001b[0;34m)\u001b[0m\u001b[0;34m\u001b[0m\u001b[0;34m\u001b[0m\u001b[0m\n\u001b[0m",
      "\u001b[0;31mNameError\u001b[0m: name 'a_local_variable' is not defined"
     ]
    }
   ],
   "source": [
    "# A variable established inside a functions can only be accessed by that functions \n",
    "def somefunction():\n",
    "    a_local_variable = 'pizza'\n",
    "    print('Inside the function: %s' % a_local_variable)\n",
    "\n",
    "somefunction()\n",
    "print('Outside the function: %s' % a_local_variable)"
   ]
  },
  {
   "cell_type": "code",
   "execution_count": 26,
   "id": "bba0caaa-47ff-4706-bfa1-7c37d491f15b",
   "metadata": {},
   "outputs": [
    {
     "name": "stdout",
     "output_type": "stream",
     "text": [
      "Outside the function, n == 123\n",
      "Inside the function, n == 7\n",
      "Outside the function, n == 123\n"
     ]
    }
   ],
   "source": [
    "# Variables can be reassigned within the scope of a function\n",
    "## So long as the reassignment happens within the scope of the function it will not adjust\n",
    "## the value outisde the functions scope \n",
    "n = 123\n",
    "\n",
    "def somefunction():\n",
    "    n = 10\n",
    "    n = n - 3\n",
    "    print('Inside the function, n == %s' % n)\n",
    "\n",
    "print('Outside the function, n == %s' % n)\n",
    "somefunction()\n",
    "print('Outside the function, n == %s' % n)"
   ]
  },
  {
   "cell_type": "markdown",
   "id": "86392c4a-f24d-480d-b704-de80382e83b0",
   "metadata": {},
   "source": [
    "# Lambda Functions "
   ]
  },
  {
   "cell_type": "code",
   "execution_count": 27,
   "id": "a9b47b3c-0bd7-49b6-a836-2799ef56374c",
   "metadata": {},
   "outputs": [
    {
     "data": {
      "text/plain": [
       "10"
      ]
     },
     "execution_count": 27,
     "metadata": {},
     "output_type": "execute_result"
    }
   ],
   "source": [
    "# Lambda functions can be used to return a single one time function\n",
    "add_one = lambda n: n + 1\n",
    "add_one(9)"
   ]
  },
  {
   "cell_type": "code",
   "execution_count": 28,
   "id": "c629543c-983a-4462-962a-4b6cbc8082a0",
   "metadata": {},
   "outputs": [
    {
     "data": {
      "text/plain": [
       "81"
      ]
     },
     "execution_count": 28,
     "metadata": {},
     "output_type": "execute_result"
    }
   ],
   "source": [
    "square = lambda n: n ** 2\n",
    "square(9)"
   ]
  },
  {
   "cell_type": "markdown",
   "id": "b89766c0-9255-438e-9f4f-d248d22d7616",
   "metadata": {},
   "source": [
    "# Exercises "
   ]
  },
  {
   "cell_type": "markdown",
   "id": "5d2922df-d314-4f4c-b08f-2b0a9e06a7a5",
   "metadata": {},
   "source": [
    "## 1) Define a function named is_two. It should accept one input and return True if the passed input is either the number or the string 2, False otherwise."
   ]
  },
  {
   "cell_type": "code",
   "execution_count": 30,
   "id": "0ecffb3f-08b3-4b84-b221-e4b506fa4171",
   "metadata": {},
   "outputs": [
    {
     "data": {
      "text/plain": [
       "True"
      ]
     },
     "execution_count": 30,
     "metadata": {},
     "output_type": "execute_result"
    }
   ],
   "source": [
    "def is_two(x):\n",
    "    return x == 2 or x == '2' or x == 'two'\n",
    "\n",
    "is_two(2)"
   ]
  },
  {
   "cell_type": "code",
   "execution_count": 36,
   "id": "5a439728-7524-4c9f-ae35-8a1eaa646448",
   "metadata": {},
   "outputs": [
    {
     "data": {
      "text/plain": [
       "True"
      ]
     },
     "execution_count": 36,
     "metadata": {},
     "output_type": "execute_result"
    }
   ],
   "source": [
    "is_two('2')"
   ]
  },
  {
   "cell_type": "code",
   "execution_count": 37,
   "id": "f6d5438b-dab5-423c-92da-b992ed2bb859",
   "metadata": {},
   "outputs": [
    {
     "data": {
      "text/plain": [
       "True"
      ]
     },
     "execution_count": 37,
     "metadata": {},
     "output_type": "execute_result"
    }
   ],
   "source": [
    "is_two('two')"
   ]
  },
  {
   "cell_type": "code",
   "execution_count": 38,
   "id": "38598c8b-e33c-44e7-96da-b6ce591c4748",
   "metadata": {},
   "outputs": [
    {
     "data": {
      "text/plain": [
       "False"
      ]
     },
     "execution_count": 38,
     "metadata": {},
     "output_type": "execute_result"
    }
   ],
   "source": [
    "is_two(1)"
   ]
  },
  {
   "cell_type": "code",
   "execution_count": 39,
   "id": "2bee0212-2c69-4848-b85a-80a2def18b41",
   "metadata": {},
   "outputs": [
    {
     "data": {
      "text/plain": [
       "False"
      ]
     },
     "execution_count": 39,
     "metadata": {},
     "output_type": "execute_result"
    }
   ],
   "source": [
    "is_two('3')"
   ]
  },
  {
   "cell_type": "code",
   "execution_count": 40,
   "id": "4d94746d-1ac1-4e1d-8261-7c21f7a76957",
   "metadata": {},
   "outputs": [
    {
     "data": {
      "text/plain": [
       "False"
      ]
     },
     "execution_count": 40,
     "metadata": {},
     "output_type": "execute_result"
    }
   ],
   "source": [
    "is_two('too')"
   ]
  },
  {
   "cell_type": "markdown",
   "id": "7ff14114-4ea8-45f2-9f3a-948711c04a23",
   "metadata": {},
   "source": [
    "## 2) Define a function named is_vowel. It should return True if the passed string is a vowel, False otherwise."
   ]
  },
  {
   "cell_type": "code",
   "execution_count": 49,
   "id": "b10a8ee4-c3b7-4b1f-a69d-516777597868",
   "metadata": {},
   "outputs": [
    {
     "data": {
      "text/plain": [
       "True"
      ]
     },
     "execution_count": 49,
     "metadata": {},
     "output_type": "execute_result"
    }
   ],
   "source": [
    "def is_vowel(x):\n",
    "    return x.lower() in ('a', 'e', 'i', 'o', 'u')\n",
    "\n",
    "is_vowel('a')"
   ]
  },
  {
   "cell_type": "code",
   "execution_count": 80,
   "id": "e047066b-fd19-421c-a031-a259484eed40",
   "metadata": {},
   "outputs": [
    {
     "data": {
      "text/plain": [
       "True"
      ]
     },
     "execution_count": 80,
     "metadata": {},
     "output_type": "execute_result"
    }
   ],
   "source": [
    "is_vowel('e')"
   ]
  },
  {
   "cell_type": "code",
   "execution_count": 50,
   "id": "723fcc21-21e1-42c6-9b84-75739aed7b67",
   "metadata": {},
   "outputs": [
    {
     "data": {
      "text/plain": [
       "True"
      ]
     },
     "execution_count": 50,
     "metadata": {},
     "output_type": "execute_result"
    }
   ],
   "source": [
    "is_vowel('E')"
   ]
  },
  {
   "cell_type": "code",
   "execution_count": 51,
   "id": "8ade2281-2206-40b2-82a2-86ea31921069",
   "metadata": {},
   "outputs": [
    {
     "data": {
      "text/plain": [
       "False"
      ]
     },
     "execution_count": 51,
     "metadata": {},
     "output_type": "execute_result"
    }
   ],
   "source": [
    "is_vowel('b')"
   ]
  },
  {
   "cell_type": "code",
   "execution_count": 52,
   "id": "592d2404-39e7-4927-aaba-c59c64421eb3",
   "metadata": {},
   "outputs": [
    {
     "data": {
      "text/plain": [
       "False"
      ]
     },
     "execution_count": 52,
     "metadata": {},
     "output_type": "execute_result"
    }
   ],
   "source": [
    "is_vowel('F')"
   ]
  },
  {
   "cell_type": "code",
   "execution_count": 53,
   "id": "031f5877-2d39-4283-9df7-3d7ca05d061b",
   "metadata": {},
   "outputs": [
    {
     "data": {
      "text/plain": [
       "False"
      ]
     },
     "execution_count": 53,
     "metadata": {},
     "output_type": "execute_result"
    }
   ],
   "source": [
    "is_vowel('John')"
   ]
  },
  {
   "cell_type": "code",
   "execution_count": 54,
   "id": "5bde3443-d081-41c9-b29c-14ecd98bd83a",
   "metadata": {},
   "outputs": [
    {
     "data": {
      "text/plain": [
       "False"
      ]
     },
     "execution_count": 54,
     "metadata": {},
     "output_type": "execute_result"
    }
   ],
   "source": [
    "is_vowel('aei')"
   ]
  },
  {
   "cell_type": "code",
   "execution_count": 55,
   "id": "40e92f7e-b244-483f-89dd-4f29ade4f282",
   "metadata": {},
   "outputs": [
    {
     "data": {
      "text/plain": [
       "False"
      ]
     },
     "execution_count": 55,
     "metadata": {},
     "output_type": "execute_result"
    }
   ],
   "source": [
    "is_vowel('uoiea')"
   ]
  },
  {
   "cell_type": "markdown",
   "id": "87ed9eb3-b92b-4708-a643-98b2e40208f0",
   "metadata": {},
   "source": [
    "## 3) Define a function named is_consonant. It should return True if the passed string is a consonant, False otherwise. Use your is_vowel function to accomplish this."
   ]
  },
  {
   "cell_type": "code",
   "execution_count": 56,
   "id": "8831d5d8-435a-41dd-864c-3d3630248400",
   "metadata": {},
   "outputs": [
    {
     "data": {
      "text/plain": [
       "True"
      ]
     },
     "execution_count": 56,
     "metadata": {},
     "output_type": "execute_result"
    }
   ],
   "source": [
    "def is_consonant(x):\n",
    "    return is_vowel(x) == False\n",
    "\n",
    "is_consonant('J')"
   ]
  },
  {
   "cell_type": "code",
   "execution_count": 57,
   "id": "91772cce-4df9-4ebf-aa7b-a0ec25639b4b",
   "metadata": {},
   "outputs": [
    {
     "data": {
      "text/plain": [
       "False"
      ]
     },
     "execution_count": 57,
     "metadata": {},
     "output_type": "execute_result"
    }
   ],
   "source": [
    "is_consonant('a')"
   ]
  },
  {
   "cell_type": "markdown",
   "id": "a63dbd4a-f1b1-48fd-8d3a-cb62421843ac",
   "metadata": {},
   "source": [
    "## 4) Define a function that accepts a string that is a word. The function should capitalize the first letter of the word if the word starts with a consonant."
   ]
  },
  {
   "cell_type": "code",
   "execution_count": 61,
   "id": "9fc630cd-7635-4bb4-9f33-5ed6ba6f95b6",
   "metadata": {},
   "outputs": [
    {
     "data": {
      "text/plain": [
       "'John'"
      ]
     },
     "execution_count": 61,
     "metadata": {},
     "output_type": "execute_result"
    }
   ],
   "source": [
    "def capitalize_consonant(x):\n",
    "    if is_consonant(x[0]) == True:\n",
    "        return x.capitalize()\n",
    "    else:\n",
    "        return x\n",
    "    \n",
    "capitalize_consonant('john')"
   ]
  },
  {
   "cell_type": "code",
   "execution_count": 62,
   "id": "8bff42c9-9e62-46c2-87f0-c7937c1cfc39",
   "metadata": {},
   "outputs": [
    {
     "data": {
      "text/plain": [
       "'allen'"
      ]
     },
     "execution_count": 62,
     "metadata": {},
     "output_type": "execute_result"
    }
   ],
   "source": [
    "capitalize_consonant('allen')"
   ]
  },
  {
   "cell_type": "markdown",
   "id": "1286d0ee-a602-4cfa-8987-26e4405b6fb3",
   "metadata": {},
   "source": [
    "## 5. Define a function named calculate_tip. It should accept a tip percentage (a number between 0 and 1) and the bill total, and return the amount to tip."
   ]
  },
  {
   "cell_type": "code",
   "execution_count": 63,
   "id": "3c609533-a08e-45d1-8f63-abea71e91833",
   "metadata": {},
   "outputs": [
    {
     "data": {
      "text/plain": [
       "20.0"
      ]
     },
     "execution_count": 63,
     "metadata": {},
     "output_type": "execute_result"
    }
   ],
   "source": [
    "def calculate_tip(tip_percent, bill_total):\n",
    "    tip = bill_total * tip_percent\n",
    "    return tip\n",
    "\n",
    "calculate_tip(.2, 100)"
   ]
  },
  {
   "cell_type": "code",
   "execution_count": 64,
   "id": "8e364415-8b9c-40c1-8623-8b5985edcb22",
   "metadata": {},
   "outputs": [
    {
     "data": {
      "text/plain": [
       "7.5"
      ]
     },
     "execution_count": 64,
     "metadata": {},
     "output_type": "execute_result"
    }
   ],
   "source": [
    "calculate_tip(.15, 50)"
   ]
  },
  {
   "cell_type": "markdown",
   "id": "30f82aa2-c8c9-4c65-8f4b-6df94f74ca3a",
   "metadata": {},
   "source": [
    "## 6) Define a function named apply_discount. It should accept a original price, and a discount percentage, and return the price after the discount is applied."
   ]
  },
  {
   "cell_type": "code",
   "execution_count": 65,
   "id": "6505e120-3575-461f-84b9-2505106a8996",
   "metadata": {},
   "outputs": [
    {
     "data": {
      "text/plain": [
       "80.0"
      ]
     },
     "execution_count": 65,
     "metadata": {},
     "output_type": "execute_result"
    }
   ],
   "source": [
    "def apply_discount(original_price, discount_percent):\n",
    "    discount = original_price * (discount_percent / 100)\n",
    "    new_price = original_price - discount\n",
    "    return new_price\n",
    "\n",
    "apply_discount(100, 20)"
   ]
  },
  {
   "cell_type": "code",
   "execution_count": 66,
   "id": "325cdc69-4f26-40a5-8e67-e53be6bc3dfa",
   "metadata": {},
   "outputs": [
    {
     "data": {
      "text/plain": [
       "42.5"
      ]
     },
     "execution_count": 66,
     "metadata": {},
     "output_type": "execute_result"
    }
   ],
   "source": [
    "apply_discount(50, 15)"
   ]
  },
  {
   "cell_type": "markdown",
   "id": "bb09fca3-fd05-4826-84ab-7f2216452917",
   "metadata": {},
   "source": [
    "## 7) Define a function named handle_commas. It should accept a string that is a number that contains commas in it as input, and return a number as output."
   ]
  },
  {
   "cell_type": "code",
   "execution_count": 68,
   "id": "9bcf86f4-2046-4a18-b4de-c3bb0eae18b2",
   "metadata": {},
   "outputs": [
    {
     "data": {
      "text/plain": [
       "1000"
      ]
     },
     "execution_count": 68,
     "metadata": {},
     "output_type": "execute_result"
    }
   ],
   "source": [
    "def handle_commas(x):\n",
    "    return int(x.replace(',', ''))\n",
    "\n",
    "handle_commas('1,000')"
   ]
  },
  {
   "cell_type": "code",
   "execution_count": 69,
   "id": "afc95204-d45f-4f27-982c-8f0935149f9e",
   "metadata": {},
   "outputs": [
    {
     "data": {
      "text/plain": [
       "int"
      ]
     },
     "execution_count": 69,
     "metadata": {},
     "output_type": "execute_result"
    }
   ],
   "source": [
    "thousand =handle_commas('1,000')\n",
    "\n",
    "type(thousand)"
   ]
  },
  {
   "cell_type": "markdown",
   "id": "1dcd21f8-1ac5-4d00-b79b-9be0d7854b5d",
   "metadata": {},
   "source": [
    "## 8) Define a function named get_letter_grade. It should accept a number and return the letter grade associated with that number (A-F)."
   ]
  },
  {
   "cell_type": "code",
   "execution_count": 70,
   "id": "4fc18fa9-4a9e-440b-9d50-8f956eca6483",
   "metadata": {},
   "outputs": [
    {
     "data": {
      "text/plain": [
       "'A'"
      ]
     },
     "execution_count": 70,
     "metadata": {},
     "output_type": "execute_result"
    }
   ],
   "source": [
    "def get_letter_grade(grade):\n",
    "    if grade > 90:\n",
    "        return('A')\n",
    "    elif grade > 80:\n",
    "        return('B')\n",
    "    elif grade > 70:\n",
    "        return('C')\n",
    "    elif grade > 60:\n",
    "        return('D')\n",
    "    else:\n",
    "        return('F')\n",
    "    \n",
    "get_letter_grade(100)"
   ]
  },
  {
   "cell_type": "code",
   "execution_count": 71,
   "id": "ae90a777-c2ad-4ee0-9b61-ad5bf1c0a672",
   "metadata": {},
   "outputs": [
    {
     "data": {
      "text/plain": [
       "'B'"
      ]
     },
     "execution_count": 71,
     "metadata": {},
     "output_type": "execute_result"
    }
   ],
   "source": [
    "get_letter_grade(88)"
   ]
  },
  {
   "cell_type": "code",
   "execution_count": 72,
   "id": "2f193f5e-1903-495e-849d-aaa9abe1c5a1",
   "metadata": {},
   "outputs": [
    {
     "data": {
      "text/plain": [
       "'C'"
      ]
     },
     "execution_count": 72,
     "metadata": {},
     "output_type": "execute_result"
    }
   ],
   "source": [
    "get_letter_grade(77)"
   ]
  },
  {
   "cell_type": "code",
   "execution_count": 73,
   "id": "ea77a357-2fc6-405c-a3c1-13bf31f510d9",
   "metadata": {},
   "outputs": [
    {
     "data": {
      "text/plain": [
       "'D'"
      ]
     },
     "execution_count": 73,
     "metadata": {},
     "output_type": "execute_result"
    }
   ],
   "source": [
    "get_letter_grade(66)"
   ]
  },
  {
   "cell_type": "code",
   "execution_count": 74,
   "id": "f0425894-f137-4314-85ce-0e56cd84f972",
   "metadata": {},
   "outputs": [
    {
     "data": {
      "text/plain": [
       "'F'"
      ]
     },
     "execution_count": 74,
     "metadata": {},
     "output_type": "execute_result"
    }
   ],
   "source": [
    "get_letter_grade(45)"
   ]
  },
  {
   "cell_type": "markdown",
   "id": "7a2676e9-0422-42f9-8b7e-3e821e5fb886",
   "metadata": {},
   "source": [
    "## 9) Define a function named remove_vowels that accepts a string and returns a string with all the vowels removed."
   ]
  },
  {
   "cell_type": "code",
   "execution_count": 81,
   "id": "bceb24b6-ace1-4e03-b2d6-6b5eb1f0ac16",
   "metadata": {},
   "outputs": [
    {
     "data": {
      "text/plain": [
       "'Jhn'"
      ]
     },
     "execution_count": 81,
     "metadata": {},
     "output_type": "execute_result"
    }
   ],
   "source": [
    "def remove_vowels(x):\n",
    "    word = ''\n",
    "    for letter in x:\n",
    "        if is_consonant(letter) == True:\n",
    "            word += letter\n",
    "    return word\n",
    "        \n",
    "remove_vowels('John')"
   ]
  },
  {
   "cell_type": "code",
   "execution_count": 82,
   "id": "0009d3fd-bf23-4f45-a3a8-f8b12f6fcb58",
   "metadata": {},
   "outputs": [
    {
     "data": {
      "text/plain": [
       "'Grnstd'"
      ]
     },
     "execution_count": 82,
     "metadata": {},
     "output_type": "execute_result"
    }
   ],
   "source": [
    "remove_vowels('Grinstead')"
   ]
  },
  {
   "cell_type": "markdown",
   "id": "49828fe6-a8fe-44f8-ad44-b378b0aa49be",
   "metadata": {},
   "source": [
    "## 10) Define a function named normalize_name. It should accept a string and return a valid python identifier, that is:\n",
    " - anything that is not a valid python identifier should be removed\n",
    " - leading and trailing whitespace should be removed\n",
    " - everything should be lowercase\n",
    " - spaces should be replaced with underscores\n",
    " - for example:\n",
    "     - Name will become name\n",
    "     - First Name will become first_name\n",
    "     - % Completed will become completed"
   ]
  },
  {
   "cell_type": "code",
   "execution_count": 90,
   "id": "5edebe02-514e-4fdb-8916-ec13302c3af7",
   "metadata": {},
   "outputs": [
    {
     "data": {
      "text/plain": [
       "'john_alln_grinstead_'"
      ]
     },
     "execution_count": 90,
     "metadata": {},
     "output_type": "execute_result"
    }
   ],
   "source": [
    "def normalize_name(name):\n",
    "    name = name.strip()\n",
    "    name = name.replace(' ', '_')\n",
    "    normal_name = ''\n",
    "    for character in name:\n",
    "        if character.isalpha() == True or character =='_':\n",
    "            normal_name+=character\n",
    "    return normal_name.lower()\n",
    "\n",
    "normalize_name('   John!@#$% All3n GrInStEad. @#$ ')"
   ]
  },
  {
   "cell_type": "markdown",
   "id": "9fb986da-4f10-433e-9468-09a14974c14e",
   "metadata": {},
   "source": [
    "## 11) Write a function named cumulative_sum that accepts a list of numbers and returns a list that is the cumulative sum of the numbers in the list.\n",
    " - cumulative_sum([1, 1, 1]) returns [1, 2, 3]\n",
    " - cumulative_sum([1, 2, 3, 4]) returns [1, 3, 6, 10]"
   ]
  },
  {
   "cell_type": "code",
   "execution_count": 100,
   "id": "4e8c8710-b8ff-4740-8763-97fd4df90c2c",
   "metadata": {},
   "outputs": [
    {
     "data": {
      "text/plain": [
       "[1, 2, 3]"
      ]
     },
     "execution_count": 100,
     "metadata": {},
     "output_type": "execute_result"
    }
   ],
   "source": [
    "def cumulative_sum(numbers):\n",
    "    # Establish a new list\n",
    "    newlist = []\n",
    "    # Establish a variable to count through the index\n",
    "    i = 1\n",
    "    # Loop through the list\n",
    "    for num in numbers:\n",
    "        # Calculate the next number in the list \n",
    "        cumulative = sum(numbers[:i])\n",
    "        # Add the next number to the new list \n",
    "        newlist.append(cumulative)\n",
    "        # Move on to the next item on the list \n",
    "        i += 1\n",
    "    return newlist\n",
    "\n",
    "cumulative_sum([1, 1, 1])"
   ]
  },
  {
   "cell_type": "code",
   "execution_count": 101,
   "id": "af337cb7-a687-4216-b619-48e031062228",
   "metadata": {},
   "outputs": [
    {
     "data": {
      "text/plain": [
       "[1, 3, 6, 10]"
      ]
     },
     "execution_count": 101,
     "metadata": {},
     "output_type": "execute_result"
    }
   ],
   "source": [
    "cumulative_sum([1, 2, 3, 4])"
   ]
  },
  {
   "cell_type": "code",
   "execution_count": 102,
   "id": "651b2ae1-1d9d-480c-9aa3-bd8994249be1",
   "metadata": {},
   "outputs": [
    {
     "data": {
      "text/plain": [
       "[5, 25, 118]"
      ]
     },
     "execution_count": 102,
     "metadata": {},
     "output_type": "execute_result"
    }
   ],
   "source": [
    "cumulative_sum([5, 20, 93])"
   ]
  },
  {
   "cell_type": "code",
   "execution_count": null,
   "id": "a4b79a0a-53b0-411b-a10e-72e31870b0f5",
   "metadata": {},
   "outputs": [],
   "source": []
  }
 ],
 "metadata": {
  "kernelspec": {
   "display_name": "Python 3 (ipykernel)",
   "language": "python",
   "name": "python3"
  },
  "language_info": {
   "codemirror_mode": {
    "name": "ipython",
    "version": 3
   },
   "file_extension": ".py",
   "mimetype": "text/x-python",
   "name": "python",
   "nbconvert_exporter": "python",
   "pygments_lexer": "ipython3",
   "version": "3.9.7"
  }
 },
 "nbformat": 4,
 "nbformat_minor": 5
}
